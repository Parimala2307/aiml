{
 "cells": [
  {
   "cell_type": "markdown",
   "id": "b270f4c2",
   "metadata": {},
   "source": [
    "# 1.write a python function that copies a file reading and writing up to 50 characters at a time"
   ]
  },
  {
   "cell_type": "code",
   "execution_count": 12,
   "id": "c32e6a0f",
   "metadata": {},
   "outputs": [
    {
     "name": "stdout",
     "output_type": "stream",
     "text": [
      "File 'C:/Users/USER/Desktop/New_folder/1file1.txt' copied to 'C:/Users/USER/Desktop/New_folder/1file2.txt' successfully.\n",
      "\n",
      "\n",
      "['iam parimala chavanaboina from hyderabad and graduated from sreyas institute of engineering in 2022 and technology and i have done my diploma from vaagdevi college in 2019. and i born in 23 july 2000']\n"
     ]
    }
   ],
   "source": [
    "def solve(input_file, output_file):\n",
    "    \n",
    "    with open(input_file, 'r') as inp, open(output_file, 'w') as out:\n",
    "        while True:\n",
    "            data = inp.read(50)\n",
    "            if not data:\n",
    "                break  \n",
    "            out.write(data)\n",
    "    print(f\"File '{input_file}' copied to '{output_file}' successfully.\\n\\n\")\n",
    "    \n",
    "\n",
    "input_file =\"C:/Users/USER/Desktop/New_folder/1file1.txt\"\n",
    "output_file =\"C:/Users/USER/Desktop/New_folder/1file2.txt\"\n",
    "solve(input_file, output_file)\n",
    "\n",
    "with  open(output_file, 'r') as f:\n",
    "    data = f.readlines()\n",
    "print(data)"
   ]
  },
  {
   "cell_type": "markdown",
   "id": "2ac585c7",
   "metadata": {},
   "source": [
    "# 2.print all numbers present in the text file and print the number of blank spaces in that file"
   ]
  },
  {
   "cell_type": "code",
   "execution_count": 15,
   "id": "b3761a56",
   "metadata": {},
   "outputs": [
    {
     "name": "stdout",
     "output_type": "stream",
     "text": [
      "Numbers in the input file are: \n",
      " ['374', '578', '34', '562378', '87', '234']\n",
      "Num of spaces in the input file arre:  4\n"
     ]
    }
   ],
   "source": [
    "import re\n",
    "\n",
    "def nums_spaces(inp_file):\n",
    "    nums = []\n",
    "    space_count =0\n",
    "    \n",
    "    with open(inp_file, \"r\") as f:\n",
    "        lines = f.readlines()\n",
    "        for line in lines:\n",
    "            nums.extend(re.findall(r\"\\d+\", line))\n",
    "            space_count += line.count(\" \")\n",
    "            \n",
    "    print(\"Numbers in the input file are: \\n\", nums)\n",
    "    print(\"Num of spaces in the input file arre: \", space_count)\n",
    "input_file =\"C:/Users/USER/Desktop/New_folder/2file.txt\"\n",
    "nums_spaces(input_file)"
   ]
  },
  {
   "cell_type": "markdown",
   "id": "686250e1",
   "metadata": {},
   "source": [
    "# 3.write a function called sed\n",
    "that takes as arguments a pattern string, a replacement string, \n",
    "and two filenames; \n",
    "it should read the first file and write the contents \n",
    "into the second file (creating it if necessary). \n",
    "if the pattern string appears anywhere in the file, \n",
    "it should be replaced with the replacement string. \n",
    "If an error occurs while opening, reading, writing, or closing files, \n",
    "your program should catch the exception, print an error message and exit"
   ]
  },
  {
   "cell_type": "code",
   "execution_count": 18,
   "id": "043e34b2",
   "metadata": {},
   "outputs": [
    {
     "name": "stdout",
     "output_type": "stream",
     "text": [
      "File 'C:/Users/USER/Desktop/New_folder/3file_input.txt' processed and saved to 'C:/Users/USER/Desktop/New_folder/3file_output.txt' successfully.\n",
      "\n",
      "[\"Python is an interpreted, object-oriented, high-level programming language with dynamic semantics. Its high-level built in data structures, combined with dynamic typing and dynamic binding, make it very attractive for Rapid Application Development, as well as for use as a scripting or glue language to connect existing components together. Python's simple, easy to learn syntax emphasizes readability and therefore reduces the cost of program maintenance. Python supports modules and packages, which encourages program modularity and code reuse. The Python interpreter and the extensive standard library are available in source or binary form without charge for all major platforms, and can be freely distributed.\"]\n"
     ]
    }
   ],
   "source": [
    "def sed(pattern, replacement, input_file, output_file):\n",
    "    try:\n",
    "        with open(input_file, 'r') as inp:\n",
    "            data = inp.read()\n",
    "        \n",
    "        replaced_data = data.replace(pattern, replacement)\n",
    "        \n",
    "        with open(output_file, 'w') as out:\n",
    "            out.write(replaced_data)\n",
    "        \n",
    "        print(f\"File '{input_file}' processed and saved to '{output_file}' successfully.\\n\")\n",
    "        \n",
    "    except FileNotFoundError:\n",
    "        print(f\"Error: File '{input_file}' not found.\\n\")\n",
    "    except Exception as e:\n",
    "        print(f\"An error occurred: {e}\\n\")\n",
    "    \n",
    "pattern = 'object'\n",
    "replacement = 'object-oriented'\n",
    "input_file =\"C:/Users/USER/Desktop/New_folder/3file_input.txt\"\n",
    "output_file =\"C:/Users/USER/Desktop/New_folder/3file_output.txt\"\n",
    "sed(pattern, replacement, input_file, output_file)\n",
    "\n",
    "with  open(output_file, 'r') as f:\n",
    "    data = f.readlines()\n",
    "print(data)"
   ]
  },
  {
   "cell_type": "markdown",
   "id": "07b70112",
   "metadata": {},
   "source": [
    "# 4.Log File Analysis:\n",
    "    You have a log file containing records of user activities on a\n",
    "    website\n",
    "    Each line in the file repersents a log entry with details \n",
    "    like timestamp, user ID, and action performed.\n",
    "    Your task is to analyze this log file\n",
    "    a) write a python code to read the log file \n",
    "        and extract specific information, such as the number of \n",
    "        unique users or the most common action\n",
    "    b) How would you handle large log files \n",
    "        efficiently without loading the entire file info memory? "
   ]
  },
  {
   "cell_type": "code",
   "execution_count": 2,
   "id": "ee4555b7",
   "metadata": {},
   "outputs": [
    {
     "name": "stdout",
     "output_type": "stream",
     "text": [
      "Most common action: 21:53:41] (count: 660)\n"
     ]
    }
   ],
   "source": [
    "from collections import Counter\n",
    "\n",
    "def solve(log_file):\n",
    "    try:\n",
    "\n",
    "        actn_counter = Counter()\n",
    "        mst_cmn_actn = None\n",
    "        mst_cmn_actn_count = 0\n",
    "        lst = []\n",
    "        with open(log_file, 'r') as file:\n",
    "            for line in file:\n",
    "                timestamp, action, *rem = line.strip().split(' ')\n",
    "                \n",
    "\n",
    "\n",
    "                actn_counter[action] += 1\n",
    "                lst.append(rem)\n",
    "                if actn_counter[action] > mst_cmn_actn_count:\n",
    "                    mst_cmn_actn = action\n",
    "                    mst_cmn_actn_count = actn_counter[action]\n",
    "\n",
    "\n",
    "        print(f\"Most common action: {mst_cmn_actn} (count: {mst_cmn_actn_count})\")\n",
    "\n",
    "    except FileNotFoundError:\n",
    "        print(f\"Error: Log file '{log_file}' not found.\\n\")\n",
    "    except Exception as e:\n",
    "        print(f\"An error occurred: {e}\\n\")\n",
    "log_file =\"C:/Users/USER/Desktop/New_folder/logfile.txt\"\n",
    "solve(log_file)"
   ]
  },
  {
   "cell_type": "markdown",
   "id": "531279cc",
   "metadata": {},
   "source": [
    "# 5.Text file search and replace:\n",
    "you have a text file with a large amount of text, \n",
    "and you want to search for specific words or phrases \n",
    "and replace them with new content\n",
    "a) write python code to search for and replace text within a text file\n",
    "b) how would you handle cases where you need to perform multiple replacements \n",
    "in a single pass?"
   ]
  },
  {
   "cell_type": "code",
   "execution_count": 22,
   "id": "565dff8e",
   "metadata": {
    "scrolled": true
   },
   "outputs": [
    {
     "name": "stdout",
     "output_type": "stream",
     "text": [
      "Replacements completed. Result saved to 'C:/Users/USER/Desktop/New_folder/5file_output.txt'.\n",
      "\n"
     ]
    }
   ],
   "source": [
    "def solve(input_file, output_file, replacements):\n",
    "    try:\n",
    "        with open(input_file, 'r') as inp, open(output_file, 'w') as out:\n",
    "            data = inp.read()\n",
    "            \n",
    "            for pattern, replacement in replacements:\n",
    "                data = data.replace(pattern, replacement)\n",
    "\n",
    "            out.write(data)\n",
    "        \n",
    "        print(f\"Replacements completed. Result saved to '{output_file}'.\\n\")\n",
    "    \n",
    "    except FileNotFoundError:\n",
    "        print(f\"Error: File '{input_file}' not found.\\n\")\n",
    "    except Exception as e:\n",
    "        print(f\"An error occurred: {e}\\n\")\n",
    "\n",
    "\n",
    "input_file = \"C:/Users/USER/Desktop/New_folder/5file_input.txt\"\n",
    "output_file =\"C:/Users/USER/Desktop/New_folder/5file_output.txt\"\n",
    "replacements = [\n",
    "     ('umbrella', '(evolution)'),\n",
    "    ('machines', '(mechanism)')\n",
    "]\n",
    "solve(input_file, output_file, replacements)\n",
    "\n"
   ]
  },
  {
   "cell_type": "markdown",
   "id": "365e0ace",
   "metadata": {},
   "source": [
    "# 6. write a python script that concatenates\n",
    "the contents of multiple text files into a single output file. \n",
    "Allow the user to specify the input files and the output file"
   ]
  },
  {
   "cell_type": "code",
   "execution_count": 27,
   "id": "3ebfd0c2",
   "metadata": {},
   "outputs": [
    {
     "name": "stdout",
     "output_type": "stream",
     "text": [
      "Enter an input file name (or 'done' to finish): C:/Users/USER/Desktop/New_folder/1file_input.txt\n",
      "Enter an input file name (or 'done' to finish): C:/Users/USER/Desktop/New_folder/3file_input.txt\n",
      "Enter an input file name (or 'done' to finish): done\n",
      "Enter the output file name: C:/Users/USER/Desktop/New_folder/6file_output.txt\n",
      "Concatenated files into 'C:/Users/USER/Desktop/New_folder/6file_output.txt' successfully.\n",
      "\n"
     ]
    }
   ],
   "source": [
    "def concatenate(input_files, output_file):\n",
    "    try:\n",
    "        with open(output_file, 'w') as output:\n",
    "            for inp in input_files:\n",
    "                with open(inp, 'r') as input:\n",
    "                    data = input.read()\n",
    "                    output.write(data)\n",
    "                    output.write('\\n')\n",
    "        print(f\"Concatenated files into '{output_file}' successfully.\\n\")\n",
    "    \n",
    "    except FileNotFoundError:\n",
    "        print(\"Error: One or more input files not found.\\n\")\n",
    "    except Exception as e:\n",
    "        print(f\"An error occurred: {e}\\n\")\n",
    "\n",
    "input_files = []\n",
    "while True:\n",
    "    file = input(\"Enter an input file name (or 'done' to finish): \")\n",
    "    if file.lower() == 'done':\n",
    "        break\n",
    "    input_files.append(file)\n",
    "\n",
    "output_file = input(\"Enter the output file name: \")\n",
    "\n",
    "concatenate(input_files, output_file)\n"
   ]
  },
  {
   "cell_type": "markdown",
   "id": "defd83ef",
   "metadata": {},
   "source": [
    "# 7.You are given a text file names input.txt containing a list of words\n",
    "one word per line your task is to create a python program that reads the contents of input.txt processess the words and writes the result to an output file name as output.txt"
   ]
  },
  {
   "cell_type": "markdown",
   "id": "833166e1",
   "metadata": {},
   "source": [
    "a) the program should perform the following operations:\n",
    "1.Read the words from the input.txt\n",
    "2.ii: For each word in the input.txt fil, calculate the length of the word \n",
    "   and store it in a dictionary where the work is a key and length is a value\n",
    "3.write the word-length dictionary to output.txt in the folllowing format:\n",
    "4.close both input and output files properly\n",
    "5.write a python code to accomplish this task, \n",
    "Ensure proper error handleing for file operations "
   ]
  },
  {
   "cell_type": "code",
   "execution_count": 33,
   "id": "ad125df9",
   "metadata": {},
   "outputs": [
    {
     "name": "stdout",
     "output_type": "stream",
     "text": [
      "Word lengths written to 'C:/Users/USER/Desktop/New_folder/7file_output.txt' successfully.\n",
      "\n",
      "python: 6\n",
      "is: 2\n",
      "a: 1\n",
      "interpreted: 11\n",
      "and: 3\n",
      "high-level: 10\n",
      "programming: 11\n",
      "language: 8\n",
      "\n"
     ]
    }
   ],
   "source": [
    "def process_words(input_file, output_file):\n",
    "    try:\n",
    "        word_length = {}\n",
    "\n",
    "        with open(input_file, 'r') as inp:\n",
    "            words = inp.read().split()\n",
    "\n",
    "            for word in words:\n",
    "                word_length[word] = len(word)\n",
    "\n",
    "        with open(output_file, 'w') as out:\n",
    "            for word, length in word_length.items():\n",
    "                out.write(f\"{word}: {length}\\n\")\n",
    "\n",
    "        print(f\"Word lengths written to '{output_file}' successfully.\\n\")\n",
    "    \n",
    "    except FileNotFoundError:\n",
    "        print(f\"Error: File '{input_file}' not found.\\n\")\n",
    "    except Exception as e:\n",
    "        print(f\"An error occurred: {e}\\n\")\n",
    "\n",
    "input_file = \"C:/Users/USER/Desktop/New_folder/7file_input.txt\"\n",
    "output_file = \"C:/Users/USER/Desktop/New_folder/7file_output.txt\"\n",
    "\n",
    "process_words(input_file, output_file)\n",
    "\n",
    "with open(output_file, 'r') as f:\n",
    "    data = f.read()\n",
    "print(data)"
   ]
  },
  {
   "cell_type": "markdown",
   "id": "a4cc2059",
   "metadata": {},
   "source": [
    "# 8. Assume that you are developing a student gradeboook system for a school\n",
    "The system shoul allow teachers to input student grades for various subjects,\n",
    "Store the data in files and provide students with ability to view their grades\n",
    "\n",
    "1.Teachers should be able to input grades for students in different subjects\n",
    "2.Store the student grade data in separate text files for each subject\n",
    "3.Students should be able to view their grades for each subject\n",
    "4.Implement error handling for file operations, such as file not found or permissionn issues"
   ]
  },
  {
   "cell_type": "code",
   "execution_count": 2,
   "id": "d7ea2a58",
   "metadata": {},
   "outputs": [
    {
     "name": "stdout",
     "output_type": "stream",
     "text": [
      "Select an option:\n",
      "1. Input Grades\n",
      "2. View Grades\n",
      "3. Quit\n",
      "Enter choice (1/2/3): 3\n",
      "Exiting the program.\n"
     ]
    }
   ],
   "source": [
    "import os\n",
    "\n",
    "\n",
    "def input_grades(subject):\n",
    "    try:\n",
    "        grades = {}\n",
    "        while True:\n",
    "            student_name = input(f\"Enter student name for {subject} (or 'done' to finish): \")\n",
    "            if student_name.lower() == 'done':\n",
    "                break\n",
    "            grade = input(f\"Enter {student_name}'s grade for {subject}: \")\n",
    "            grades[student_name] = grade\n",
    "        \n",
    "        with open(f'{subject}.txt', 'w') as file:\n",
    "            for student, grade in grades.items():\n",
    "                file.write(f\"{student}: {grade}\\n\")\n",
    "        \n",
    "        print(f\"Grades for {subject} saved successfully.\")\n",
    "    \n",
    "    except Exception as e:\n",
    "        print(f\"An error occurred: {e}\")\n",
    "\n",
    "def view_grades(subject):\n",
    "    try:\n",
    "        if os.path.exists(f'{subject}.txt'):\n",
    "            with open(f'{subject}.txt', 'r') as file:\n",
    "                grades = file.read()\n",
    "                print(f\"Grades for {subject}:\\n{grades}\\n\")\n",
    "        else:\n",
    "            print(f\"Grades for {subject} are not available.\\n\")\n",
    "    \n",
    "    except Exception as e:\n",
    "        print(f\"An error occurred: {e}\\n\")\n",
    "\n",
    "while True:\n",
    "    choice = input(\"Select an option:\\n1. Input Grades\\n2. View Grades\\n3. Quit\\nEnter choice (1/2/3): \")\n",
    "    \n",
    "    if choice == '1':\n",
    "        subject = input(\"Enter the subject: \")\n",
    "        input_grades(subject)\n",
    "    elif choice == '2':\n",
    "        subject = input(\"Enter the subject: \")\n",
    "        view_grades(subject)\n",
    "    elif choice == '3':\n",
    "        print(\"Exiting the program.\")\n",
    "        break\n",
    "    else:\n",
    "        print(\"Invalid choice. Please select 1, 2, or 3.\")"
   ]
  },
  {
   "cell_type": "code",
   "execution_count": 1,
   "id": "288c5e30",
   "metadata": {},
   "outputs": [
    {
     "name": "stdout",
     "output_type": "stream",
     "text": [
      "\n",
      "Options:\n",
      "1. Input Grades\n",
      "2. View Grades\n",
      "3. Exit\n",
      "Enter your choice: 1\n",
      "Enter the subject: physics\n",
      "Enter the student's name: dhruvan\n",
      "Enter the grade: 80\n",
      "Grade for dhruvan in physics saved successfully.\n",
      "\n",
      "Options:\n",
      "1. Input Grades\n",
      "2. View Grades\n",
      "3. Exit\n",
      "Enter your choice: 2\n",
      "Enter the student's name: sreeman\n",
      "Grades for sreeman:\n",
      "\n",
      "Options:\n",
      "1. Input Grades\n",
      "2. View Grades\n",
      "3. Exit\n",
      "Enter your choice: 1\n",
      "Enter the subject: physics\n",
      "Enter the student's name: sudheeksha\n",
      "Enter the grade: 98\n",
      "Grade for sudheeksha in physics saved successfully.\n",
      "\n",
      "Options:\n",
      "1. Input Grades\n",
      "2. View Grades\n",
      "3. Exit\n",
      "Enter your choice: 2\n",
      "Enter the student's name: sudheeksha\n",
      "Grades for sudheeksha:\n",
      "physics: 98\n",
      "\n",
      "Options:\n",
      "1. Input Grades\n",
      "2. View Grades\n",
      "3. Exit\n",
      "Enter your choice: 3\n"
     ]
    }
   ],
   "source": [
    "import os\n",
    "\n",
    "class GradebookSystem:\n",
    "    def __init__(self, school_name):\n",
    "        self.school_name = school_name\n",
    "        self.data_directory = \"grade_data\"\n",
    "        os.makedirs(self.data_directory, exist_ok=True)\n",
    "\n",
    "    def input_grades(self, subject, student_name, grade):\n",
    "        filename = os.path.join(self.data_directory, f\"{subject}.txt\")\n",
    "        \n",
    "        try:\n",
    "            with open(filename, \"a\") as file:\n",
    "                file.write(f\"{student_name}: {grade}\\n\")\n",
    "            print(f\"Grade for {student_name} in {subject} saved successfully.\")\n",
    "        except FileNotFoundError:\n",
    "            print(\"Error: File not found.\")\n",
    "        except PermissionError:\n",
    "            print(\"Error: Permission denied while writing to file.\")\n",
    "        except Exception as e:\n",
    "            print(f\"An error occurred: {str(e)}\")\n",
    "    def view_grades(self, student_name):\n",
    "        print(f\"Grades for {student_name}:\")\n",
    "        for subject_file in os.listdir(self.data_directory):\n",
    "            subject = os.path.splitext(subject_file)[0]\n",
    "            filename = os.path.join(self.data_directory, subject_file)\n",
    "            \n",
    "            try:\n",
    "                with open(filename, \"r\") as file:\n",
    "                    for line in file:\n",
    "                        data = line.strip().split(\": \")\n",
    "                        if len(data) == 2 and data[0] == student_name:\n",
    "                            print(f\"{subject}: {data[1]}\")\n",
    "            except FileNotFoundError:\n",
    "                print(f\"Error: File not found while reading {subject} grades.\")\n",
    "            except PermissionError:\n",
    "                print(f\"Error: Permission denied while reading {subject} grades.\")\n",
    "            except Exception as e:\n",
    "                print(f\"An error occurred: {str(e)}\")\n",
    "if __name__ == \"__main__\":\n",
    "    gradebook = GradebookSystem(\"My School\")\n",
    "    \n",
    "    while True:\n",
    "        print(\"\\nOptions:\")\n",
    "        print(\"1. Input Grades\")\n",
    "        print(\"2. View Grades\")\n",
    "        print(\"3. Exit\")\n",
    "        choice = input(\"Enter your choice: \")\n",
    "\n",
    "        if choice == \"1\":\n",
    "            subject = input(\"Enter the subject: \")\n",
    "            student_name = input(\"Enter the student's name: \")\n",
    "            grade = input(\"Enter the grade: \")\n",
    "            gradebook.input_grades(subject, student_name, grade)\n",
    "        elif choice == \"2\":\n",
    "            student_name = input(\"Enter the student's name: \")\n",
    "            gradebook.view_grades(student_name)\n",
    "        elif choice == \"3\":\n",
    "            break\n",
    "        else:\n",
    "            print(\"Invalid choice. Please try again.\")"
   ]
  },
  {
   "cell_type": "code",
   "execution_count": null,
   "id": "f290be29",
   "metadata": {},
   "outputs": [],
   "source": []
  }
 ],
 "metadata": {
  "kernelspec": {
   "display_name": "Python 3 (ipykernel)",
   "language": "python",
   "name": "python3"
  },
  "language_info": {
   "codemirror_mode": {
    "name": "ipython",
    "version": 3
   },
   "file_extension": ".py",
   "mimetype": "text/x-python",
   "name": "python",
   "nbconvert_exporter": "python",
   "pygments_lexer": "ipython3",
   "version": "3.11.4"
  }
 },
 "nbformat": 4,
 "nbformat_minor": 5
}
