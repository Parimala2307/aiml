{
 "cells": [
  {
   "cell_type": "code",
   "execution_count": 12,
   "id": "c2f26181",
   "metadata": {},
   "outputs": [],
   "source": [
    "%matplotlib inline\n",
    "import pandas as pd "
   ]
  },
  {
   "cell_type": "code",
   "execution_count": 3,
   "id": "a35ffb78",
   "metadata": {},
   "outputs": [
    {
     "data": {
      "text/html": [
       "<div>\n",
       "<style scoped>\n",
       "    .dataframe tbody tr th:only-of-type {\n",
       "        vertical-align: middle;\n",
       "    }\n",
       "\n",
       "    .dataframe tbody tr th {\n",
       "        vertical-align: top;\n",
       "    }\n",
       "\n",
       "    .dataframe thead th {\n",
       "        text-align: right;\n",
       "    }\n",
       "</style>\n",
       "<table border=\"1\" class=\"dataframe\">\n",
       "  <thead>\n",
       "    <tr style=\"text-align: right;\">\n",
       "      <th></th>\n",
       "      <th>title</th>\n",
       "      <th>year</th>\n",
       "    </tr>\n",
       "  </thead>\n",
       "  <tbody>\n",
       "    <tr>\n",
       "      <th>0</th>\n",
       "      <td>Tasveer Mere Sanam</td>\n",
       "      <td>1996</td>\n",
       "    </tr>\n",
       "    <tr>\n",
       "      <th>1</th>\n",
       "      <td>Only You</td>\n",
       "      <td>1994</td>\n",
       "    </tr>\n",
       "    <tr>\n",
       "      <th>2</th>\n",
       "      <td>El pueblo del terror</td>\n",
       "      <td>1970</td>\n",
       "    </tr>\n",
       "    <tr>\n",
       "      <th>3</th>\n",
       "      <td>Machine</td>\n",
       "      <td>2007</td>\n",
       "    </tr>\n",
       "    <tr>\n",
       "      <th>4</th>\n",
       "      <td>MARy</td>\n",
       "      <td>2008</td>\n",
       "    </tr>\n",
       "  </tbody>\n",
       "</table>\n",
       "</div>"
      ],
      "text/plain": [
       "                  title  year\n",
       "0    Tasveer Mere Sanam  1996\n",
       "1              Only You  1994\n",
       "2  El pueblo del terror  1970\n",
       "3               Machine  2007\n",
       "4                  MARy  2008"
      ]
     },
     "execution_count": 3,
     "metadata": {},
     "output_type": "execute_result"
    }
   ],
   "source": [
    "import pandas as pd \n",
    "titles = pd.read_csv('titles.csv')\n",
    "titles.head()"
   ]
  },
  {
   "cell_type": "markdown",
   "id": "a8f74c63",
   "metadata": {},
   "source": [
    "# 1.How many movies are listed in the titles dataframe?\n"
   ]
  },
  {
   "cell_type": "code",
   "execution_count": 18,
   "id": "264ba875",
   "metadata": {},
   "outputs": [
    {
     "name": "stdout",
     "output_type": "stream",
     "text": [
      "Total number of movies listed in the DataFrame: 244914\n"
     ]
    }
   ],
   "source": [
    "import pandas as pd\n",
    "\n",
    "\n",
    "num_movies = titles.shape[0]  \n",
    "\n",
    "\n",
    "\n",
    "print(f'Total number of movies listed in the DataFrame: {num_movies}')"
   ]
  },
  {
   "cell_type": "markdown",
   "id": "31189a23",
   "metadata": {},
   "source": [
    "# 2.What are the earliest two films listed in the titles dataframe?"
   ]
  },
  {
   "cell_type": "code",
   "execution_count": 19,
   "id": "930faad8",
   "metadata": {},
   "outputs": [
    {
     "name": "stdout",
     "output_type": "stream",
     "text": [
      "                     title  year\n",
      "193222          Miss Jerry  1894\n",
      "51388   The Startled Lover  1898\n"
     ]
    }
   ],
   "source": [
    "earliest_films = titles.sort_values(by='year').head(2)\n",
    "print(earliest_films)"
   ]
  },
  {
   "cell_type": "markdown",
   "id": "8c0b36f8",
   "metadata": {},
   "source": [
    "# 3.How many movies have the title hemlet?"
   ]
  },
  {
   "cell_type": "code",
   "execution_count": 20,
   "id": "68dfcb74",
   "metadata": {},
   "outputs": [
    {
     "name": "stdout",
     "output_type": "stream",
     "text": [
      "The number of movies with the title \"Hamlet\" is: 20\n"
     ]
    }
   ],
   "source": [
    "hamlet_movies = titles[titles['title'] == 'Hamlet']\n",
    "num_hamlet_movies = len(hamlet_movies)\n",
    "print(f'The number of movies with the title \"Hamlet\" is: {num_hamlet_movies}')"
   ]
  },
  {
   "cell_type": "markdown",
   "id": "109242c1",
   "metadata": {},
   "source": [
    "# 4.How many movies are titled north by northwest?"
   ]
  },
  {
   "cell_type": "code",
   "execution_count": 21,
   "id": "84405cee",
   "metadata": {},
   "outputs": [
    {
     "name": "stdout",
     "output_type": "stream",
     "text": [
      "The number of movies with the title \"North by Northwest\" is: 1\n"
     ]
    }
   ],
   "source": [
    "num_north_by_northwest_movies = titles[titles['title'].str.lower() == 'north by northwest'].shape[0]\n",
    "print(f'The number of movies with the title \"North by Northwest\" is: {num_north_by_northwest_movies}')"
   ]
  },
  {
   "cell_type": "markdown",
   "id": "eead9c1c",
   "metadata": {},
   "source": [
    "# 5.When was the first movie titled \"Hamlet\" made?\n"
   ]
  },
  {
   "cell_type": "code",
   "execution_count": 3,
   "id": "a183a5bc",
   "metadata": {},
   "outputs": [
    {
     "name": "stdout",
     "output_type": "stream",
     "text": [
      "The first movie titled 'Hamlet' was made in 1910.\n"
     ]
    }
   ],
   "source": [
    "%matplotlib inline\n",
    "import pandas as pd \n",
    "titles = pd.read_csv('C:/Users/USER/Desktop/day1_python/day_10_exercises/titles.csv')\n",
    "titles\n",
    "hamlet_movies = titles[titles['title'] == 'Hamlet']\n",
    "\n",
    "hamlet_movies = hamlet_movies.sort_values('year')\n",
    "\n",
    "first_hamlet_movie = hamlet_movies.iloc[0]\n",
    "\n",
    "first_hamlet_movie_year = first_hamlet_movie['year']\n",
    "\n",
    "print(f\"The first movie titled 'Hamlet' was made in {first_hamlet_movie_year}.\")\n"
   ]
  },
  {
   "cell_type": "markdown",
   "id": "92c609c4",
   "metadata": {},
   "source": [
    "# 6.List all of the \"Treasure Island\" movies from earliest to most recent.\n",
    "\n"
   ]
  },
  {
   "cell_type": "code",
   "execution_count": 28,
   "id": "8fed431c",
   "metadata": {},
   "outputs": [
    {
     "name": "stdout",
     "output_type": "stream",
     "text": [
      "                  title  year\n",
      "55686   Treasure Island  1918\n",
      "196514  Treasure Island  1920\n",
      "141822  Treasure Island  1934\n",
      "77354   Treasure Island  1950\n",
      "65051   Treasure Island  1972\n",
      "37238   Treasure Island  1973\n",
      "173051  Treasure Island  1985\n",
      "27076   Treasure Island  1999\n"
     ]
    }
   ],
   "source": [
    "treasure_island_movies = titles[titles['title'] == 'Treasure Island'].sort_values(by='year')\n",
    "print(treasure_island_movies)"
   ]
  },
  {
   "cell_type": "markdown",
   "id": "cc738c37",
   "metadata": {},
   "source": [
    "# 7.How many movies were made in the year 1950?"
   ]
  },
  {
   "cell_type": "code",
   "execution_count": 24,
   "id": "d1694b8d",
   "metadata": {},
   "outputs": [
    {
     "name": "stdout",
     "output_type": "stream",
     "text": [
      "Number of movies made in the year 1950: 1113\n"
     ]
    }
   ],
   "source": [
    "# Assuming you have already loaded the 'titles' DataFrame\n",
    "\n",
    "# Filter the DataFrame for movies made in the year 1950\n",
    "movies_1950 = titles[titles['year'] == 1950]\n",
    "\n",
    "# Get the count of movies made in 1950\n",
    "num_movies_1950 = len(movies_1950)\n",
    "\n",
    "# Print the result\n",
    "print(\"Number of movies made in the year 1950:\", num_movies_1950)"
   ]
  },
  {
   "cell_type": "markdown",
   "id": "0ef3638c",
   "metadata": {},
   "source": [
    "# 8.How many movies were made in the year 1960?"
   ]
  },
  {
   "cell_type": "code",
   "execution_count": 25,
   "id": "94287cb9",
   "metadata": {},
   "outputs": [
    {
     "name": "stdout",
     "output_type": "stream",
     "text": [
      "Number of movies made in the year 1960: 1549\n"
     ]
    }
   ],
   "source": [
    "# Assuming 'titles' is the DataFrame containing your movie data\n",
    "# Filter rows where the 'year' column is equal to 1960\n",
    "movies_1960 = titles[titles['year'] == 1960]\n",
    "\n",
    "# Count the number of rows (movies) in the filtered DataFrame\n",
    "number_of_movies_1960 = len(movies_1960)\n",
    "\n",
    "# Print the result\n",
    "print(\"Number of movies made in the year 1960:\", number_of_movies_1960)"
   ]
  },
  {
   "cell_type": "markdown",
   "id": "4783d6e2",
   "metadata": {},
   "source": [
    "# 9.How many movies were made from 1950 throgh 1959?"
   ]
  },
  {
   "cell_type": "code",
   "execution_count": 26,
   "id": "91a0873e",
   "metadata": {},
   "outputs": [
    {
     "name": "stdout",
     "output_type": "stream",
     "text": [
      "Number of movies made from 1950 through 1959: 12934\n"
     ]
    }
   ],
   "source": [
    "# Filter the DataFrame to include only rows from 1950 through 1959\n",
    "movies_1950s = titles[(titles['year'] >= 1950) & (titles['year'] <= 1959)]\n",
    "\n",
    "# Count the number of movies in the 1950s\n",
    "num_movies_1950s = len(movies_1950s)\n",
    "\n",
    "# Print the result\n",
    "print(\"Number of movies made from 1950 through 1959:\", num_movies_1950s)"
   ]
  },
  {
   "cell_type": "markdown",
   "id": "83481467",
   "metadata": {},
   "source": [
    "# 10.In what years has a movie titled \"Batman\" been released?"
   ]
  },
  {
   "cell_type": "code",
   "execution_count": 27,
   "id": "a0fa9619",
   "metadata": {},
   "outputs": [
    {
     "name": "stdout",
     "output_type": "stream",
     "text": [
      "Years in which a movie titled 'Batman' has been released:\n",
      "[1943 1989]\n"
     ]
    }
   ],
   "source": [
    "import pandas as pd\n",
    "batman_movies = titles[titles['title'] == 'Batman']\n",
    "years_with_batman_movies = batman_movies['year'].unique()\n",
    "print(\"Years in which a movie titled 'Batman' has been released:\")\n",
    "print(years_with_batman_movies)"
   ]
  },
  {
   "cell_type": "code",
   "execution_count": 1,
   "id": "79498257",
   "metadata": {},
   "outputs": [
    {
     "data": {
      "text/html": [
       "<div>\n",
       "<style scoped>\n",
       "    .dataframe tbody tr th:only-of-type {\n",
       "        vertical-align: middle;\n",
       "    }\n",
       "\n",
       "    .dataframe tbody tr th {\n",
       "        vertical-align: top;\n",
       "    }\n",
       "\n",
       "    .dataframe thead th {\n",
       "        text-align: right;\n",
       "    }\n",
       "</style>\n",
       "<table border=\"1\" class=\"dataframe\">\n",
       "  <thead>\n",
       "    <tr style=\"text-align: right;\">\n",
       "      <th></th>\n",
       "      <th>title</th>\n",
       "      <th>year</th>\n",
       "      <th>name</th>\n",
       "      <th>type</th>\n",
       "      <th>character</th>\n",
       "      <th>n</th>\n",
       "    </tr>\n",
       "  </thead>\n",
       "  <tbody>\n",
       "    <tr>\n",
       "      <th>0</th>\n",
       "      <td>Closet Monster</td>\n",
       "      <td>2015</td>\n",
       "      <td>Buffy #1</td>\n",
       "      <td>actor</td>\n",
       "      <td>Buffy 4</td>\n",
       "      <td>31.0</td>\n",
       "    </tr>\n",
       "    <tr>\n",
       "      <th>1</th>\n",
       "      <td>Suuri illusioni</td>\n",
       "      <td>1985</td>\n",
       "      <td>Homo $</td>\n",
       "      <td>actor</td>\n",
       "      <td>Guests</td>\n",
       "      <td>22.0</td>\n",
       "    </tr>\n",
       "    <tr>\n",
       "      <th>2</th>\n",
       "      <td>Battle of the Sexes</td>\n",
       "      <td>2017</td>\n",
       "      <td>$hutter</td>\n",
       "      <td>actor</td>\n",
       "      <td>Bobby Riggs Fan</td>\n",
       "      <td>10.0</td>\n",
       "    </tr>\n",
       "    <tr>\n",
       "      <th>3</th>\n",
       "      <td>Secret in Their Eyes</td>\n",
       "      <td>2015</td>\n",
       "      <td>$hutter</td>\n",
       "      <td>actor</td>\n",
       "      <td>2002 Dodger Fan</td>\n",
       "      <td>NaN</td>\n",
       "    </tr>\n",
       "    <tr>\n",
       "      <th>4</th>\n",
       "      <td>Steve Jobs</td>\n",
       "      <td>2015</td>\n",
       "      <td>$hutter</td>\n",
       "      <td>actor</td>\n",
       "      <td>1988 Opera House Patron</td>\n",
       "      <td>NaN</td>\n",
       "    </tr>\n",
       "  </tbody>\n",
       "</table>\n",
       "</div>"
      ],
      "text/plain": [
       "                  title  year      name   type                character     n\n",
       "0        Closet Monster  2015  Buffy #1  actor                  Buffy 4  31.0\n",
       "1       Suuri illusioni  1985    Homo $  actor                   Guests  22.0\n",
       "2   Battle of the Sexes  2017   $hutter  actor          Bobby Riggs Fan  10.0\n",
       "3  Secret in Their Eyes  2015   $hutter  actor          2002 Dodger Fan   NaN\n",
       "4            Steve Jobs  2015   $hutter  actor  1988 Opera House Patron   NaN"
      ]
     },
     "execution_count": 1,
     "metadata": {},
     "output_type": "execute_result"
    }
   ],
   "source": [
    "import pandas as pd\n",
    "cast=pd.read_csv('cast.csv')\n",
    "cast.head()"
   ]
  },
  {
   "cell_type": "markdown",
   "id": "dd8761c7",
   "metadata": {},
   "source": [
    "# 11.How many roles were there in the movie \"Inception\"?"
   ]
  },
  {
   "cell_type": "code",
   "execution_count": 4,
   "id": "b3c49991",
   "metadata": {},
   "outputs": [
    {
     "name": "stdout",
     "output_type": "stream",
     "text": [
      "The number of roles in the movie \"Inception\" is: 56\n"
     ]
    }
   ],
   "source": [
    "inception_roles = cast[(cast['title'] == 'Inception') & (cast['type'] == 'actor')]\n",
    "num_inception_roles = len(inception_roles)\n",
    "print(f'The number of roles in the movie \"Inception\" is: {num_inception_roles}')"
   ]
  },
  {
   "cell_type": "markdown",
   "id": "cbbe86d4",
   "metadata": {},
   "source": [
    "# 12.How many roles in the movie \"Inception\" are NOT ranked by an \"n\" value?"
   ]
  },
  {
   "cell_type": "code",
   "execution_count": 9,
   "id": "51f09602",
   "metadata": {},
   "outputs": [
    {
     "data": {
      "text/html": [
       "<div>\n",
       "<style scoped>\n",
       "    .dataframe tbody tr th:only-of-type {\n",
       "        vertical-align: middle;\n",
       "    }\n",
       "\n",
       "    .dataframe tbody tr th {\n",
       "        vertical-align: top;\n",
       "    }\n",
       "\n",
       "    .dataframe thead th {\n",
       "        text-align: right;\n",
       "    }\n",
       "</style>\n",
       "<table border=\"1\" class=\"dataframe\">\n",
       "  <thead>\n",
       "    <tr style=\"text-align: right;\">\n",
       "      <th></th>\n",
       "      <th>title</th>\n",
       "      <th>year</th>\n",
       "      <th>name</th>\n",
       "      <th>type</th>\n",
       "      <th>character</th>\n",
       "      <th>n</th>\n",
       "    </tr>\n",
       "  </thead>\n",
       "  <tbody>\n",
       "    <tr>\n",
       "      <th>0</th>\n",
       "      <td>Closet Monster</td>\n",
       "      <td>2015</td>\n",
       "      <td>Buffy #1</td>\n",
       "      <td>actor</td>\n",
       "      <td>Buffy 4</td>\n",
       "      <td>31.0</td>\n",
       "    </tr>\n",
       "    <tr>\n",
       "      <th>1</th>\n",
       "      <td>Suuri illusioni</td>\n",
       "      <td>1985</td>\n",
       "      <td>Homo $</td>\n",
       "      <td>actor</td>\n",
       "      <td>Guests</td>\n",
       "      <td>22.0</td>\n",
       "    </tr>\n",
       "    <tr>\n",
       "      <th>2</th>\n",
       "      <td>Battle of the Sexes</td>\n",
       "      <td>2017</td>\n",
       "      <td>$hutter</td>\n",
       "      <td>actor</td>\n",
       "      <td>Bobby Riggs Fan</td>\n",
       "      <td>10.0</td>\n",
       "    </tr>\n",
       "    <tr>\n",
       "      <th>3</th>\n",
       "      <td>Secret in Their Eyes</td>\n",
       "      <td>2015</td>\n",
       "      <td>$hutter</td>\n",
       "      <td>actor</td>\n",
       "      <td>2002 Dodger Fan</td>\n",
       "      <td>NaN</td>\n",
       "    </tr>\n",
       "    <tr>\n",
       "      <th>4</th>\n",
       "      <td>Steve Jobs</td>\n",
       "      <td>2015</td>\n",
       "      <td>$hutter</td>\n",
       "      <td>actor</td>\n",
       "      <td>1988 Opera House Patron</td>\n",
       "      <td>NaN</td>\n",
       "    </tr>\n",
       "  </tbody>\n",
       "</table>\n",
       "</div>"
      ],
      "text/plain": [
       "                  title  year      name   type                character     n\n",
       "0        Closet Monster  2015  Buffy #1  actor                  Buffy 4  31.0\n",
       "1       Suuri illusioni  1985    Homo $  actor                   Guests  22.0\n",
       "2   Battle of the Sexes  2017   $hutter  actor          Bobby Riggs Fan  10.0\n",
       "3  Secret in Their Eyes  2015   $hutter  actor          2002 Dodger Fan   NaN\n",
       "4            Steve Jobs  2015   $hutter  actor  1988 Opera House Patron   NaN"
      ]
     },
     "execution_count": 9,
     "metadata": {},
     "output_type": "execute_result"
    }
   ],
   "source": [
    "import pandas as pd\n",
    "cast=pd.read_csv('cast.csv')\n",
    "cast.head()"
   ]
  },
  {
   "cell_type": "code",
   "execution_count": 14,
   "id": "4e55d947",
   "metadata": {},
   "outputs": [
    {
     "name": "stdout",
     "output_type": "stream",
     "text": [
      "Number of roles in the movie 'Inception' without an 'n' value: 27\n"
     ]
    }
   ],
   "source": [
    "import pandas as pd\n",
    "import numpy as np\n",
    "inception_cast = cast[(cast['title'] == 'Inception') & (cast['n'].isna())]\n",
    "number_of_roles_in_inception_without_n_value = len(inception_cast)\n",
    "print(\"Number of roles in the movie 'Inception' without an 'n' value:\",\n",
    "number_of_roles_in_inception_without_n_value)"
   ]
  },
  {
   "cell_type": "markdown",
   "id": "421d86d9",
   "metadata": {},
   "source": [
    "# 13.But how many roles in the movie \"Inception\" did receive an \"n\" value?"
   ]
  },
  {
   "cell_type": "code",
   "execution_count": 13,
   "id": "147e201f",
   "metadata": {},
   "outputs": [
    {
     "name": "stdout",
     "output_type": "stream",
     "text": [
      "The number of roles in the movie \"Inception\" that received an \"n\" value is: 51\n"
     ]
    }
   ],
   "source": [
    "inception_roles_with_n = cast[(cast['title'] == 'Inception') & ~cast['n'].isna()]\n",
    "num_inception_roles_with_n = len(inception_roles_with_n)\n",
    "print(f'The number of roles in the movie \"Inception\" that received an \"n\" value is: {num_inception_roles_with_n}')"
   ]
  },
  {
   "cell_type": "markdown",
   "id": "7ce4b5aa",
   "metadata": {},
   "source": [
    "# 14.Display the cast of \"North by Northwest\" in their correct \"n\"-value order, ignoring roles that did not earn a numeric \"n\" value."
   ]
  },
  {
   "cell_type": "code",
   "execution_count": 7,
   "id": "c1918560",
   "metadata": {},
   "outputs": [
    {
     "data": {
      "text/html": [
       "<div>\n",
       "<style scoped>\n",
       "    .dataframe tbody tr th:only-of-type {\n",
       "        vertical-align: middle;\n",
       "    }\n",
       "\n",
       "    .dataframe tbody tr th {\n",
       "        vertical-align: top;\n",
       "    }\n",
       "\n",
       "    .dataframe thead th {\n",
       "        text-align: right;\n",
       "    }\n",
       "</style>\n",
       "<table border=\"1\" class=\"dataframe\">\n",
       "  <thead>\n",
       "    <tr style=\"text-align: right;\">\n",
       "      <th></th>\n",
       "      <th>title</th>\n",
       "      <th>year</th>\n",
       "      <th>name</th>\n",
       "      <th>type</th>\n",
       "      <th>character</th>\n",
       "      <th>n</th>\n",
       "    </tr>\n",
       "  </thead>\n",
       "  <tbody>\n",
       "    <tr>\n",
       "      <th>0</th>\n",
       "      <td>Closet Monster</td>\n",
       "      <td>2015</td>\n",
       "      <td>Buffy #1</td>\n",
       "      <td>actor</td>\n",
       "      <td>Buffy 4</td>\n",
       "      <td>31.0</td>\n",
       "    </tr>\n",
       "    <tr>\n",
       "      <th>1</th>\n",
       "      <td>Suuri illusioni</td>\n",
       "      <td>1985</td>\n",
       "      <td>Homo $</td>\n",
       "      <td>actor</td>\n",
       "      <td>Guests</td>\n",
       "      <td>22.0</td>\n",
       "    </tr>\n",
       "    <tr>\n",
       "      <th>2</th>\n",
       "      <td>Battle of the Sexes</td>\n",
       "      <td>2017</td>\n",
       "      <td>$hutter</td>\n",
       "      <td>actor</td>\n",
       "      <td>Bobby Riggs Fan</td>\n",
       "      <td>10.0</td>\n",
       "    </tr>\n",
       "    <tr>\n",
       "      <th>3</th>\n",
       "      <td>Secret in Their Eyes</td>\n",
       "      <td>2015</td>\n",
       "      <td>$hutter</td>\n",
       "      <td>actor</td>\n",
       "      <td>2002 Dodger Fan</td>\n",
       "      <td>NaN</td>\n",
       "    </tr>\n",
       "    <tr>\n",
       "      <th>4</th>\n",
       "      <td>Steve Jobs</td>\n",
       "      <td>2015</td>\n",
       "      <td>$hutter</td>\n",
       "      <td>actor</td>\n",
       "      <td>1988 Opera House Patron</td>\n",
       "      <td>NaN</td>\n",
       "    </tr>\n",
       "  </tbody>\n",
       "</table>\n",
       "</div>"
      ],
      "text/plain": [
       "                  title  year      name   type                character     n\n",
       "0        Closet Monster  2015  Buffy #1  actor                  Buffy 4  31.0\n",
       "1       Suuri illusioni  1985    Homo $  actor                   Guests  22.0\n",
       "2   Battle of the Sexes  2017   $hutter  actor          Bobby Riggs Fan  10.0\n",
       "3  Secret in Their Eyes  2015   $hutter  actor          2002 Dodger Fan   NaN\n",
       "4            Steve Jobs  2015   $hutter  actor  1988 Opera House Patron   NaN"
      ]
     },
     "execution_count": 7,
     "metadata": {},
     "output_type": "execute_result"
    }
   ],
   "source": [
    "import pandas as pd\n",
    "cast=pd.read_csv('cast.csv')\n",
    "cast.head()"
   ]
  },
  {
   "cell_type": "code",
   "execution_count": 8,
   "id": "f6213adb",
   "metadata": {},
   "outputs": [
    {
     "name": "stdout",
     "output_type": "stream",
     "text": [
      "            n                  name\n",
      "871426    1.0            Cary Grant\n",
      "3518333   2.0       Eva Marie Saint\n",
      "1457165   3.0           James Mason\n",
      "3157232   4.0   Jessie Royce Landis\n",
      "356707    5.0        Leo G. Carroll\n",
      "3048272   6.0  Josephine Hutchinson\n",
      "1695173   7.0           Philip Ober\n",
      "1275337   8.0         Martin Landau\n",
      "2447081   9.0         Adam Williams\n",
      "1811387  10.0          Edward Platt\n",
      "665768   11.0     Robert Ellenstein\n",
      "2295714  12.0          Les Tremayne\n",
      "464736   13.0       Philip Coolidge\n",
      "1508344  14.0         Patrick McVey\n",
      "206471   15.0          Edward Binns\n",
      "1384780  16.0             Ken Lynch\n"
     ]
    },
    {
     "name": "stderr",
     "output_type": "stream",
     "text": [
      "C:\\Users\\USER\\AppData\\Local\\Temp\\ipykernel_15384\\1819859402.py:4: SettingWithCopyWarning: \n",
      "A value is trying to be set on a copy of a slice from a DataFrame.\n",
      "Try using .loc[row_indexer,col_indexer] = value instead\n",
      "\n",
      "See the caveats in the documentation: https://pandas.pydata.org/pandas-docs/stable/user_guide/indexing.html#returning-a-view-versus-a-copy\n",
      "  north_by_northwest_cast['n'] = pd.to_numeric(north_by_northwest_cast['n'])\n"
     ]
    }
   ],
   "source": [
    "import pandas as pd\n",
    "north_by_northwest_cast = cast[(cast['title'] == 'North by Northwest') &\n",
    "(cast['n'].notna())]\n",
    "north_by_northwest_cast['n'] = pd.to_numeric(north_by_northwest_cast['n'])\n",
    "north_by_northwest_cast_sorted = north_by_northwest_cast.sort_values(by='n')\n",
    "print(north_by_northwest_cast_sorted[['n','name']])"
   ]
  },
  {
   "cell_type": "markdown",
   "id": "0a9041ca",
   "metadata": {},
   "source": [
    "# 15.Display the entire cast, in \"n\"-order, of the 1972 film \"Sleuth\"."
   ]
  },
  {
   "cell_type": "code",
   "execution_count": 18,
   "id": "7a628c2f",
   "metadata": {},
   "outputs": [
    {
     "name": "stdout",
     "output_type": "stream",
     "text": [
      "          title  year                name   type                   character  \\\n",
      "1705394  Sleuth  1972    Laurence Olivier  actor                 Andrew Wyke   \n",
      "326773   Sleuth  1972       Michael Caine  actor                 Milo Tindle   \n",
      "373876   Sleuth  1972      Alec Cawthorne  actor           Inspector Doppler   \n",
      "1465483  Sleuth  1972  John (II) Matthews  actor  Detective Sergeant Tarrant   \n",
      "1448690  Sleuth  1972        Teddy Martin  actor      Police Constable Higgs   \n",
      "\n",
      "           n  \n",
      "1705394  1.0  \n",
      "326773   2.0  \n",
      "373876   3.0  \n",
      "1465483  4.0  \n",
      "1448690  6.0  \n"
     ]
    }
   ],
   "source": [
    "sleuth_1972_cast = cast[(cast['title'] == 'Sleuth') & (cast['year'] == 1972) & (cast['type'] == 'actor')]\n",
    "sleuth_1972_cast_sorted = sleuth_1972_cast.sort_values(by='n')\n",
    "print(sleuth_1972_cast_sorted)"
   ]
  },
  {
   "cell_type": "markdown",
   "id": "5fe12bd5",
   "metadata": {},
   "source": [
    "# 16.Now display the entire cast, in \"n\"-order, of the 2007 version of \"Sleuth\"."
   ]
  },
  {
   "cell_type": "code",
   "execution_count": 10,
   "id": "1e42fad6",
   "metadata": {},
   "outputs": [
    {
     "name": "stdout",
     "output_type": "stream",
     "text": [
      "           n           name\n",
      "326774   1.0  Michael Caine\n",
      "1293634  2.0       Jude Law\n",
      "1805907  3.0  Harold Pinter\n"
     ]
    },
    {
     "name": "stderr",
     "output_type": "stream",
     "text": [
      "C:\\Users\\USER\\AppData\\Local\\Temp\\ipykernel_15384\\2108668788.py:3: SettingWithCopyWarning: \n",
      "A value is trying to be set on a copy of a slice from a DataFrame.\n",
      "Try using .loc[row_indexer,col_indexer] = value instead\n",
      "\n",
      "See the caveats in the documentation: https://pandas.pydata.org/pandas-docs/stable/user_guide/indexing.html#returning-a-view-versus-a-copy\n",
      "  sleuth_2007_cast['n'] = pd.to_numeric(sleuth_2007_cast['n'])\n"
     ]
    }
   ],
   "source": [
    "import pandas as pd\n",
    "sleuth_2007_cast = cast[(cast['title'] == 'Sleuth') & (cast['n'].notna()) & (cast['year'] == 2007)]\n",
    "sleuth_2007_cast['n'] = pd.to_numeric(sleuth_2007_cast['n'])\n",
    "sleuth_2007_cast_sorted = sleuth_2007_cast.sort_values(by='n')\n",
    "print(sleuth_2007_cast_sorted[['n', 'name']])"
   ]
  },
  {
   "cell_type": "markdown",
   "id": "d47a0eef",
   "metadata": {},
   "source": [
    "# 17.How many roles were credited in the silent 1921 version of Hamlet?"
   ]
  },
  {
   "cell_type": "code",
   "execution_count": 14,
   "id": "29c1997c",
   "metadata": {},
   "outputs": [
    {
     "name": "stdout",
     "output_type": "stream",
     "text": [
      "Number of credited roles in the silent 1921 version of 'Hamlet': 9\n"
     ]
    }
   ],
   "source": [
    "import pandas as pd\n",
    "hamlet_1921_cast = cast[(cast['title'] == 'Hamlet') & (cast['year'] == 1921)]\n",
    "number_of_roles_in_hamlet_1921 = len(hamlet_1921_cast['character'].unique())\n",
    "print(\"Number of credited roles in the silent 1921 version of 'Hamlet':\",number_of_roles_in_hamlet_1921)"
   ]
  },
  {
   "cell_type": "markdown",
   "id": "7e4e0822",
   "metadata": {},
   "source": [
    "# 18.How many roles were credited in Branagh's 1996 Hamlet?\n"
   ]
  },
  {
   "cell_type": "code",
   "execution_count": 15,
   "id": "6670cc96",
   "metadata": {},
   "outputs": [
    {
     "name": "stdout",
     "output_type": "stream",
     "text": [
      "Number of credited roles in Branagh's 1996 version of 'Hamlet': 49\n"
     ]
    }
   ],
   "source": [
    "import pandas as pd\n",
    "branagh_hamlet_cast = cast[(cast['title'] == 'Hamlet') & (cast['year'] == 1996)]\n",
    "number_of_roles_in_branagh_hamlet = len(branagh_hamlet_cast['character'].unique())\n",
    "print(\"Number of credited roles in Branagh's 1996 version of 'Hamlet':\",number_of_roles_in_branagh_hamlet)"
   ]
  },
  {
   "cell_type": "markdown",
   "id": "549b117f",
   "metadata": {},
   "source": [
    "# 19.How many \"Hamlet\" roles have been listed in all film credits through history?\n",
    "\n"
   ]
  },
  {
   "cell_type": "code",
   "execution_count": 19,
   "id": "32de7dbf",
   "metadata": {},
   "outputs": [
    {
     "name": "stdout",
     "output_type": "stream",
     "text": [
      "The total number of \"Hamlet\" roles listed in film credits throughout history is: 342\n"
     ]
    }
   ],
   "source": [
    "hamlet_roles = cast[cast['title'] == 'Hamlet']\n",
    "num_hamlet_roles = len(hamlet_roles)\n",
    "print(f'The total number of \"Hamlet\" roles listed in film credits throughout history is: {num_hamlet_roles}')"
   ]
  },
  {
   "cell_type": "markdown",
   "id": "b6c298d5",
   "metadata": {},
   "source": [
    "# 20.How many people have played an \"Ophelia\"?"
   ]
  },
  {
   "cell_type": "code",
   "execution_count": 16,
   "id": "51905725",
   "metadata": {},
   "outputs": [
    {
     "name": "stdout",
     "output_type": "stream",
     "text": [
      "Number of people who have played the role of 'Ophelia': 115\n"
     ]
    }
   ],
   "source": [
    "import pandas as pd\n",
    "ophelia_actors = cast[cast['character'] == 'Ophelia']\n",
    "number_of_ophelia_actors = len(ophelia_actors['name'].unique())\n",
    "print(\"Number of people who have played the role of 'Ophelia':\",number_of_ophelia_actors)"
   ]
  },
  {
   "cell_type": "markdown",
   "id": "ec7fe402",
   "metadata": {},
   "source": [
    "# 21 How many people have played a role called \"The Dude\"?\n"
   ]
  },
  {
   "cell_type": "code",
   "execution_count": 17,
   "id": "028c0fb0",
   "metadata": {},
   "outputs": [
    {
     "name": "stdout",
     "output_type": "stream",
     "text": [
      "Number of people who have played the role of 'The Dude': 19\n"
     ]
    }
   ],
   "source": [
    "import pandas as pd\n",
    "the_dude_actors = cast[cast['character'] == 'The Dude']\n",
    "number_of_the_dude_actors = len(the_dude_actors['name'].unique())\n",
    "print(\"Number of people who have played the role of 'The Dude':\",number_of_the_dude_actors)"
   ]
  },
  {
   "cell_type": "markdown",
   "id": "c4133e76",
   "metadata": {},
   "source": [
    "# 22.How many people have played a role called \"The Stranger\"?\n"
   ]
  },
  {
   "cell_type": "code",
   "execution_count": 2,
   "id": "e1893ba6",
   "metadata": {},
   "outputs": [
    {
     "data": {
      "text/html": [
       "<div>\n",
       "<style scoped>\n",
       "    .dataframe tbody tr th:only-of-type {\n",
       "        vertical-align: middle;\n",
       "    }\n",
       "\n",
       "    .dataframe tbody tr th {\n",
       "        vertical-align: top;\n",
       "    }\n",
       "\n",
       "    .dataframe thead th {\n",
       "        text-align: right;\n",
       "    }\n",
       "</style>\n",
       "<table border=\"1\" class=\"dataframe\">\n",
       "  <thead>\n",
       "    <tr style=\"text-align: right;\">\n",
       "      <th></th>\n",
       "      <th>title</th>\n",
       "      <th>year</th>\n",
       "      <th>name</th>\n",
       "      <th>type</th>\n",
       "      <th>character</th>\n",
       "      <th>n</th>\n",
       "    </tr>\n",
       "  </thead>\n",
       "  <tbody>\n",
       "    <tr>\n",
       "      <th>0</th>\n",
       "      <td>Closet Monster</td>\n",
       "      <td>2015</td>\n",
       "      <td>Buffy #1</td>\n",
       "      <td>actor</td>\n",
       "      <td>Buffy 4</td>\n",
       "      <td>31.0</td>\n",
       "    </tr>\n",
       "    <tr>\n",
       "      <th>1</th>\n",
       "      <td>Suuri illusioni</td>\n",
       "      <td>1985</td>\n",
       "      <td>Homo $</td>\n",
       "      <td>actor</td>\n",
       "      <td>Guests</td>\n",
       "      <td>22.0</td>\n",
       "    </tr>\n",
       "    <tr>\n",
       "      <th>2</th>\n",
       "      <td>Battle of the Sexes</td>\n",
       "      <td>2017</td>\n",
       "      <td>$hutter</td>\n",
       "      <td>actor</td>\n",
       "      <td>Bobby Riggs Fan</td>\n",
       "      <td>10.0</td>\n",
       "    </tr>\n",
       "    <tr>\n",
       "      <th>3</th>\n",
       "      <td>Secret in Their Eyes</td>\n",
       "      <td>2015</td>\n",
       "      <td>$hutter</td>\n",
       "      <td>actor</td>\n",
       "      <td>2002 Dodger Fan</td>\n",
       "      <td>NaN</td>\n",
       "    </tr>\n",
       "    <tr>\n",
       "      <th>4</th>\n",
       "      <td>Steve Jobs</td>\n",
       "      <td>2015</td>\n",
       "      <td>$hutter</td>\n",
       "      <td>actor</td>\n",
       "      <td>1988 Opera House Patron</td>\n",
       "      <td>NaN</td>\n",
       "    </tr>\n",
       "  </tbody>\n",
       "</table>\n",
       "</div>"
      ],
      "text/plain": [
       "                  title  year      name   type                character     n\n",
       "0        Closet Monster  2015  Buffy #1  actor                  Buffy 4  31.0\n",
       "1       Suuri illusioni  1985    Homo $  actor                   Guests  22.0\n",
       "2   Battle of the Sexes  2017   $hutter  actor          Bobby Riggs Fan  10.0\n",
       "3  Secret in Their Eyes  2015   $hutter  actor          2002 Dodger Fan   NaN\n",
       "4            Steve Jobs  2015   $hutter  actor  1988 Opera House Patron   NaN"
      ]
     },
     "execution_count": 2,
     "metadata": {},
     "output_type": "execute_result"
    }
   ],
   "source": [
    "import pandas as pd\n",
    "cast=pd.read_csv('cast.csv')\n",
    "cast.head()"
   ]
  },
  {
   "cell_type": "code",
   "execution_count": 3,
   "id": "0bcf10ca",
   "metadata": {},
   "outputs": [
    {
     "name": "stdout",
     "output_type": "stream",
     "text": [
      "Number of people who played a role called 'the stranger': 0\n"
     ]
    }
   ],
   "source": [
    "stranger_roles = cast[cast['character'] == 'the stranger']\n",
    "num_stranger_actors = len(stranger_roles)\n",
    "print(\"Number of people who played a role called 'the stranger':\", num_stranger_actors)"
   ]
  },
  {
   "cell_type": "markdown",
   "id": "0509829c",
   "metadata": {},
   "source": [
    "# 23.How many roles has Sidney Poitier played throughout his career?\n",
    "\n"
   ]
  },
  {
   "cell_type": "code",
   "execution_count": 4,
   "id": "3912d5a9",
   "metadata": {},
   "outputs": [
    {
     "name": "stdout",
     "output_type": "stream",
     "text": [
      "Sidney Poitier has played 43 roles throughout his career.\n"
     ]
    }
   ],
   "source": [
    "sidney_poitier_roles = cast[cast['name'] == 'Sidney Poitier']\n",
    "num_roles = len(sidney_poitier_roles)\n",
    "print(\"Sidney Poitier has played\", num_roles, \"roles throughout his career.\")"
   ]
  },
  {
   "cell_type": "markdown",
   "id": "675311f2",
   "metadata": {},
   "source": [
    "# 24.How many roles has Judi Dench played?\n"
   ]
  },
  {
   "cell_type": "code",
   "execution_count": 5,
   "id": "ff3fed27",
   "metadata": {},
   "outputs": [
    {
     "name": "stdout",
     "output_type": "stream",
     "text": [
      "Judi Dench has played 55 roles throughout her career.\n"
     ]
    }
   ],
   "source": [
    "judi_dench_roles = cast[cast['name'] == 'Judi Dench']\n",
    "num_roles = len(judi_dench_roles)\n",
    "print(\"Judi Dench has played\", num_roles, \"roles throughout her career.\")"
   ]
  },
  {
   "cell_type": "markdown",
   "id": "15b9f304",
   "metadata": {},
   "source": [
    "# 25.List the supporting roles (having n=2) played by Cary Grant in the 1940s, in order by year."
   ]
  },
  {
   "cell_type": "code",
   "execution_count": 6,
   "id": "d85fe945",
   "metadata": {},
   "outputs": [
    {
     "name": "stdout",
     "output_type": "stream",
     "text": [
      "                   title  year        name   type    character    n\n",
      "871423  My Favorite Wife  1940  Cary Grant  actor   Nick Arden  2.0\n",
      "871433    Penny Serenade  1941  Cary Grant  actor  Roger Adams  2.0\n"
     ]
    }
   ],
   "source": [
    "cary_grant_supporting_roles_1940s =cast[(cast['name'] == 'Cary Grant') & (cast['n'] == 2) & (cast['year'] >= 1940) & (cast['year'] <= 1949)]\n",
    "sorted_roles = cary_grant_supporting_roles_1940s.sort_values(by='year')\n",
    "print(sorted_roles)"
   ]
  },
  {
   "cell_type": "markdown",
   "id": "f166cfa3",
   "metadata": {},
   "source": [
    "# 26.List the leading roles that Cary Grant played in the 1940s in order by year.\n"
   ]
  },
  {
   "cell_type": "code",
   "execution_count": 7,
   "id": "74924eea",
   "metadata": {},
   "outputs": [
    {
     "name": "stdout",
     "output_type": "stream",
     "text": [
      "                                       title  year        name   type  \\\n",
      "871448               The Howards of Virginia  1940  Cary Grant  actor   \n",
      "871407                       His Girl Friday  1940  Cary Grant  actor   \n",
      "871450                The Philadelphia Story  1940  Cary Grant  actor   \n",
      "871438                             Suspicion  1941  Cary Grant  actor   \n",
      "871452                  The Talk of the Town  1942  Cary Grant  actor   \n",
      "871429                 Once Upon a Honeymoon  1942  Cary Grant  actor   \n",
      "871398                     Destination Tokyo  1943  Cary Grant  actor   \n",
      "871422                             Mr. Lucky  1943  Cary Grant  actor   \n",
      "871430                      Once Upon a Time  1944  Cary Grant  actor   \n",
      "871390                  Arsenic and Old Lace  1944  Cary Grant  actor   \n",
      "871425             None But the Lonely Heart  1944  Cary Grant  actor   \n",
      "871424                         Night and Day  1946  Cary Grant  actor   \n",
      "871427                             Notorious  1946  Cary Grant  actor   \n",
      "871444      The Bachelor and the Bobby-Soxer  1947  Cary Grant  actor   \n",
      "871445                     The Bishop's Wife  1947  Cary Grant  actor   \n",
      "871421  Mr. Blandings Builds His Dream House  1948  Cary Grant  actor   \n",
      "871402          Every Girl Should Be Married  1948  Cary Grant  actor   \n",
      "871411                I Was a Male War Bride  1949  Cary Grant  actor   \n",
      "\n",
      "                                   character    n  \n",
      "871448                           Matt Howard  1.0  \n",
      "871407                          Walter Burns  1.0  \n",
      "871450                    C. K. Dexter Haven  1.0  \n",
      "871438                      Johnnie Aysgarth  1.0  \n",
      "871452                          Leopold Dilg  1.0  \n",
      "871429                 Patrick 'Pat' O'Toole  1.0  \n",
      "871398                         Capt. Cassidy  1.0  \n",
      "871422  Joe Adams -posing as Joe Bascopolous  1.0  \n",
      "871430                           Jerry Flynn  1.0  \n",
      "871390                     Mortimer Brewster  1.0  \n",
      "871425                            Ernie Mott  1.0  \n",
      "871424                           Cole Porter  1.0  \n",
      "871427                                Devlin  1.0  \n",
      "871444                           Dick Nugent  1.0  \n",
      "871445                                Dudley  1.0  \n",
      "871421                         Jim Blandings  1.0  \n",
      "871402                     Dr. Madison Brown  1.0  \n",
      "871411                 Captain Henri Rochard  1.0  \n"
     ]
    }
   ],
   "source": [
    "cary_grant_leading_roles_1940s =cast[(cast['name'] == 'Cary Grant') & (cast['n'] == 1) & (cast['year'] >= 1940) & (cast['year'] <= 1949)]\n",
    "sorted_roles = cary_grant_leading_roles_1940s.sort_values(by='year')\n",
    "print(sorted_roles)"
   ]
  },
  {
   "cell_type": "markdown",
   "id": "ea903236",
   "metadata": {},
   "source": [
    "# 28.How many roles were available for actresses in the 1950s?\n"
   ]
  },
  {
   "cell_type": "code",
   "execution_count": 8,
   "id": "9554ab45",
   "metadata": {},
   "outputs": [
    {
     "name": "stdout",
     "output_type": "stream",
     "text": [
      "Number of roles available for actresses in the 1950s: 57733\n"
     ]
    }
   ],
   "source": [
    "actress_roles_1950s = cast[(cast['type'] == 'actress') & (cast['year'] >= 1950) & (cast['year'] <= 1959)]\n",
    "num_actress_roles = len(actress_roles_1950s)\n",
    "print(\"Number of roles available for actresses in the 1950s:\", num_actress_roles)"
   ]
  },
  {
   "cell_type": "markdown",
   "id": "76712b36",
   "metadata": {},
   "source": [
    "# 29.How many leading roles (n==1) were available from the beginning of film history through 1950?"
   ]
  },
  {
   "cell_type": "code",
   "execution_count": 9,
   "id": "545f95ab",
   "metadata": {},
   "outputs": [
    {
     "name": "stdout",
     "output_type": "stream",
     "text": [
      "Number of leading roles (n==1) available from the beginning of film history through 1950: 30569\n"
     ]
    }
   ],
   "source": [
    "leading_roles_before_1950 = cast[(cast['n'] == 1) & (cast['year'] <= 1950)]\n",
    "num_leading_roles = len(leading_roles_before_1950)\n",
    "print(\"Number of leading roles (n==1) available from the beginning of film history through 1950:\", num_leading_roles)"
   ]
  },
  {
   "cell_type": "markdown",
   "id": "49d2bae0",
   "metadata": {},
   "source": [
    "# 30.How many non-leading roles were available through from the beginning of film history through 1980?"
   ]
  },
  {
   "cell_type": "code",
   "execution_count": 10,
   "id": "b637f94d",
   "metadata": {},
   "outputs": [
    {
     "name": "stdout",
     "output_type": "stream",
     "text": [
      "Number of non-leading roles available from the beginning of film history through 1980: 1117667\n"
     ]
    }
   ],
   "source": [
    "non_leading_roles_before_1980 = cast[(cast['n'] != 1) & (cast['year'] <= 1980)]\n",
    "num_non_leading_roles = len(non_leading_roles_before_1980)\n",
    "print(\"Number of non-leading roles available from the beginning of film history through 1980:\", num_non_leading_roles)"
   ]
  },
  {
   "cell_type": "markdown",
   "id": "5b8d0da6",
   "metadata": {},
   "source": [
    "# 31.How many roles through 1980 were minor enough that they did not warrant a numeric \"n\" rank?"
   ]
  },
  {
   "cell_type": "code",
   "execution_count": 13,
   "id": "6ed064d8",
   "metadata": {},
   "outputs": [
    {
     "name": "stdout",
     "output_type": "stream",
     "text": [
      "Number of roles through 1980 that did not warrant a numeric 'n' rank: 1458573\n"
     ]
    }
   ],
   "source": [
    "minor_roles_before_1980 = cast[(cast['n'].isna()) | (cast['n'] == \"NaN\") | (cast['n'] == \"minor\") & (cast['year'] <= 1980)]\n",
    "num_minor_roles = len(minor_roles_before_1980)\n",
    "print(\"Number of roles through 1980 that did not warrant a numeric 'n' rank:\", num_minor_roles)"
   ]
  },
  {
   "cell_type": "code",
   "execution_count": null,
   "id": "d9125320",
   "metadata": {},
   "outputs": [],
   "source": []
  }
 ],
 "metadata": {
  "kernelspec": {
   "display_name": "Python 3 (ipykernel)",
   "language": "python",
   "name": "python3"
  },
  "language_info": {
   "codemirror_mode": {
    "name": "ipython",
    "version": 3
   },
   "file_extension": ".py",
   "mimetype": "text/x-python",
   "name": "python",
   "nbconvert_exporter": "python",
   "pygments_lexer": "ipython3",
   "version": "3.11.4"
  }
 },
 "nbformat": 4,
 "nbformat_minor": 5
}
