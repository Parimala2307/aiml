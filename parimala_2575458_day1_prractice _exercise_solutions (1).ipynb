{
 "cells": [
  {
   "cell_type": "markdown",
   "id": "bc1e7aaa",
   "metadata": {},
   "source": [
    "#  1. Manipulate using a list"
   ]
  },
  {
   "cell_type": "code",
   "execution_count": 7,
   "id": "f4bf0507",
   "metadata": {},
   "outputs": [
    {
     "data": {
      "text/plain": [
       "[10, 20, 30]"
      ]
     },
     "execution_count": 7,
     "metadata": {},
     "output_type": "execute_result"
    }
   ],
   "source": [
    "lst=[10,20,30]\n",
    "lst"
   ]
  },
  {
   "cell_type": "code",
   "execution_count": 8,
   "id": "6350b5f5",
   "metadata": {},
   "outputs": [
    {
     "data": {
      "text/plain": [
       "[10, 20, 30, 40]"
      ]
     },
     "execution_count": 8,
     "metadata": {},
     "output_type": "execute_result"
    }
   ],
   "source": [
    "#1.To add new elements to the end of the list\n",
    "lst.append(40)\n",
    "lst"
   ]
  },
  {
   "cell_type": "code",
   "execution_count": 9,
   "id": "9eba4242",
   "metadata": {},
   "outputs": [
    {
     "data": {
      "text/plain": [
       "[40, 30, 20, 10]"
      ]
     },
     "execution_count": 9,
     "metadata": {},
     "output_type": "execute_result"
    }
   ],
   "source": [
    "#2.To reverse elements in the list\n",
    "lst.reverse()\n",
    "lst"
   ]
  },
  {
   "cell_type": "code",
   "execution_count": 5,
   "id": "d00c6830",
   "metadata": {},
   "outputs": [
    {
     "data": {
      "text/plain": [
       "[40, 30, 20, 10]"
      ]
     },
     "execution_count": 5,
     "metadata": {},
     "output_type": "execute_result"
    }
   ],
   "source": [
    "#3.To display the same list of elements multiple times\n",
    "lst*3\n",
    "lst"
   ]
  },
  {
   "cell_type": "code",
   "execution_count": 7,
   "id": "f09fad62",
   "metadata": {},
   "outputs": [
    {
     "name": "stdout",
     "output_type": "stream",
     "text": [
      "[40, 30, 20, 10, 40, 30, 20, 10, 40, 30, 20, 10]\n"
     ]
    }
   ],
   "source": [
    "#3.To display the same list of elements multiple times\n",
    "lst=lst*3\n",
    "print(lst)"
   ]
  },
  {
   "cell_type": "code",
   "execution_count": 9,
   "id": "bc89d90f",
   "metadata": {},
   "outputs": [
    {
     "name": "stdout",
     "output_type": "stream",
     "text": [
      "[10, 20, 30, 40, 50, 60]\n"
     ]
    }
   ],
   "source": [
    "#4.to concatenate two list\n",
    "lst1=[10,20,30,40]\n",
    "lst2=[50,60]\n",
    "sum=lst1+lst2\n",
    "print(sum)\n"
   ]
  },
  {
   "cell_type": "code",
   "execution_count": 14,
   "id": "04e9ca1c",
   "metadata": {},
   "outputs": [
    {
     "name": "stdout",
     "output_type": "stream",
     "text": [
      "[5, 9, 34, 47, 50]\n"
     ]
    }
   ],
   "source": [
    "#5.to sort the elements in the list in ascending order\n",
    "list=[9,50,47,34,5]\n",
    "list.sort()\n",
    "print(list)"
   ]
  },
  {
   "cell_type": "markdown",
   "id": "bcdd30db",
   "metadata": {},
   "source": [
    "# 2.wtrite a python program to do in the tuples"
   ]
  },
  {
   "cell_type": "code",
   "execution_count": 12,
   "id": "acc8a18c",
   "metadata": {},
   "outputs": [
    {
     "name": "stdout",
     "output_type": "stream",
     "text": [
      "('parimala', 'jaya', 123)\n"
     ]
    }
   ],
   "source": [
    "tup=(\"parimala\",\"jaya\",123)\n",
    "print(tup)"
   ]
  },
  {
   "cell_type": "code",
   "execution_count": 15,
   "id": "78cd7bfd",
   "metadata": {},
   "outputs": [
    {
     "name": "stdout",
     "output_type": "stream",
     "text": [
      "('parimala', 'jaya', 123, 'raj')\n"
     ]
    }
   ],
   "source": [
    "#1 manipulate using tuples\n",
    "tup=tup + (\"raj\",)\n",
    "print(tup)"
   ]
  },
  {
   "cell_type": "code",
   "execution_count": 16,
   "id": "e1a6ad8e",
   "metadata": {},
   "outputs": [
    {
     "name": "stdout",
     "output_type": "stream",
     "text": [
      "('parimala', 'jaya', 123, 'raj', 'abc', 'pqr', 456)\n"
     ]
    }
   ],
   "source": [
    "#2.To add new elements to the end of tuples\n",
    "tuple1=(\"abc\",\"pqr\",456)\n",
    "tuple=tup+tuple1\n",
    "print(tuple)\n"
   ]
  },
  {
   "cell_type": "code",
   "execution_count": 17,
   "id": "892cad09",
   "metadata": {},
   "outputs": [
    {
     "name": "stdout",
     "output_type": "stream",
     "text": [
      "reversed_tuple: ('raj', 123, 'jaya', 'parimala')\n"
     ]
    }
   ],
   "source": [
    "#3.to reverse elements in the list\n",
    "reversed_tuple=tup[::-1]\n",
    "print('reversed_tuple:',reversed_tuple)"
   ]
  },
  {
   "cell_type": "code",
   "execution_count": 18,
   "id": "8ec81916",
   "metadata": {},
   "outputs": [
    {
     "name": "stdout",
     "output_type": "stream",
     "text": [
      "('parimala', 'jaya', 123, 'raj', 'parimala', 'jaya', 123, 'raj', 'parimala', 'jaya', 123, 'raj', 'parimala', 'jaya', 123, 'raj')\n"
     ]
    }
   ],
   "source": [
    "#4.To display the elements of the sample tuple multiple times\n",
    "tuple=tup*4\n",
    "print(tuple)"
   ]
  },
  {
   "cell_type": "code",
   "execution_count": 19,
   "id": "f60f27fc",
   "metadata": {},
   "outputs": [
    {
     "data": {
      "text/plain": [
       "('parimala', 'jaya', 123, 'raj', 8, 9)"
      ]
     },
     "execution_count": 19,
     "metadata": {},
     "output_type": "execute_result"
    }
   ],
   "source": [
    "#5.To concatenate two tuples\n",
    "t2=(8,9)\n",
    "t3=tup+t2\n",
    "t3"
   ]
  },
  {
   "cell_type": "code",
   "execution_count": 1,
   "id": "51365d03",
   "metadata": {},
   "outputs": [
    {
     "name": "stdout",
     "output_type": "stream",
     "text": [
      "['parimala', 'raj', 'venkatesh']\n"
     ]
    }
   ],
   "source": [
    "#6.To sort the elementsin the list in ascending order\n",
    "lst=(\"parimala\",\"raj\",\"venkatesh\")\n",
    "items=[]\n",
    "for i in range(len(lst)):\n",
    "    items.append(lst[i])\n",
    "    items.sort()\n",
    "print(items)"
   ]
  },
  {
   "cell_type": "markdown",
   "id": "ea881dc7",
   "metadata": {},
   "source": [
    "#  3.write a python program to implement the following using list"
   ]
  },
  {
   "cell_type": "code",
   "execution_count": 1,
   "id": "1f529cb6",
   "metadata": {},
   "outputs": [
    {
     "data": {
      "text/plain": [
       "[9, 8, 7, 6, 5, 4, 3, 2, 1, 10]"
      ]
     },
     "execution_count": 1,
     "metadata": {},
     "output_type": "execute_result"
    }
   ],
   "source": [
    "#1. create a list with integers(minimum 10 numbers)\n",
    "lst=[9,8,7,6,5,4,3,2,1,10]\n",
    "lst"
   ]
  },
  {
   "cell_type": "code",
   "execution_count": 2,
   "id": "60ad7946",
   "metadata": {},
   "outputs": [
    {
     "name": "stdout",
     "output_type": "stream",
     "text": [
      "10\n"
     ]
    }
   ],
   "source": [
    "#2.how to display the last number in the list\n",
    "last_num=lst[-1]\n",
    "print(last_num)"
   ]
  },
  {
   "cell_type": "code",
   "execution_count": 3,
   "id": "775c600b",
   "metadata": {},
   "outputs": [
    {
     "data": {
      "text/plain": [
       "[9, 8, 7, 6]"
      ]
     },
     "execution_count": 3,
     "metadata": {},
     "output_type": "execute_result"
    }
   ],
   "source": [
    "#3.command for displaying the values from the list[0:4]\n",
    "values=lst[0:4]\n",
    "values"
   ]
  },
  {
   "cell_type": "code",
   "execution_count": 6,
   "id": "09e40e82",
   "metadata": {},
   "outputs": [
    {
     "data": {
      "text/plain": [
       "[7, 6, 5, 4, 3, 2, 1, 10]"
      ]
     },
     "execution_count": 6,
     "metadata": {},
     "output_type": "execute_result"
    }
   ],
   "source": [
    "#4.command for displaying the values from the list[2:]\n",
    "values=lst[2:]\n",
    "values_1"
   ]
  },
  {
   "cell_type": "code",
   "execution_count": 5,
   "id": "be51c78f",
   "metadata": {},
   "outputs": [
    {
     "data": {
      "text/plain": [
       "[3, 2, 1, 10]"
      ]
     },
     "execution_count": 5,
     "metadata": {},
     "output_type": "execute_result"
    }
   ],
   "source": [
    "#5.command for displaying the values from the list[6:]\n",
    "values=lst[6:]\n",
    "values"
   ]
  },
  {
   "cell_type": "markdown",
   "id": "6a0037fe",
   "metadata": {},
   "source": [
    "# 4.write a python program tuple1=(10,50,20,40,30)"
   ]
  },
  {
   "cell_type": "code",
   "execution_count": 20,
   "id": "55dbbc7b",
   "metadata": {},
   "outputs": [
    {
     "name": "stdout",
     "output_type": "stream",
     "text": [
      "10 50\n"
     ]
    }
   ],
   "source": [
    "#1.To display elements from 10 and 50 from tuple1\n",
    "tuple1=(10,50,20,40,30)\n",
    "value1=tuple1[0]\n",
    "value2=tuple1[1]\n",
    "print(value1,value2)\n",
    "\n"
   ]
  },
  {
   "cell_type": "code",
   "execution_count": 21,
   "id": "a3c3fc01",
   "metadata": {},
   "outputs": [
    {
     "data": {
      "text/plain": [
       "5"
      ]
     },
     "execution_count": 21,
     "metadata": {},
     "output_type": "execute_result"
    }
   ],
   "source": [
    "#2.To display the length of a tuple1\n",
    "length=len(tuple1)\n",
    "length"
   ]
  },
  {
   "cell_type": "code",
   "execution_count": 23,
   "id": "2f8cbd64",
   "metadata": {},
   "outputs": [
    {
     "data": {
      "text/plain": [
       "10"
      ]
     },
     "execution_count": 23,
     "metadata": {},
     "output_type": "execute_result"
    }
   ],
   "source": [
    "#3.To find the minimum elememnt from tuple1\n",
    "minimum_element=min(tuple1)\n",
    "minimum_element"
   ]
  },
  {
   "cell_type": "code",
   "execution_count": 25,
   "id": "8bc579cd",
   "metadata": {},
   "outputs": [
    {
     "data": {
      "text/plain": [
       "150"
      ]
     },
     "execution_count": 25,
     "metadata": {},
     "output_type": "execute_result"
    }
   ],
   "source": [
    "#4.To add all elements in the tuple1\n",
    "sum=sum(tuple1)\n",
    "sum"
   ]
  },
  {
   "cell_type": "code",
   "execution_count": 24,
   "id": "a67f9f1c",
   "metadata": {},
   "outputs": [
    {
     "data": {
      "text/plain": [
       "(10, 50, 20, 40, 30, 10, 50, 20, 40, 30)"
      ]
     },
     "execution_count": 24,
     "metadata": {},
     "output_type": "execute_result"
    }
   ],
   "source": [
    "#5.To display the same tuple1 multiple times\n",
    "result=tuple1*2\n",
    "result"
   ]
  },
  {
   "cell_type": "markdown",
   "id": "437200a4",
   "metadata": {},
   "source": [
    "# 5.write a python program"
   ]
  },
  {
   "cell_type": "code",
   "execution_count": 33,
   "id": "1374a2bb",
   "metadata": {},
   "outputs": [
    {
     "data": {
      "text/plain": [
       "'parimala'"
      ]
     },
     "execution_count": 33,
     "metadata": {},
     "output_type": "execute_result"
    }
   ],
   "source": [
    "name= \"parimala\"\n",
    "name"
   ]
  },
  {
   "cell_type": "code",
   "execution_count": 34,
   "id": "dbc52528",
   "metadata": {},
   "outputs": [
    {
     "data": {
      "text/plain": [
       "8"
      ]
     },
     "execution_count": 34,
     "metadata": {},
     "output_type": "execute_result"
    }
   ],
   "source": [
    "#1.To calculate the length of the string\n",
    "length=len(name)\n",
    "length\n"
   ]
  },
  {
   "cell_type": "code",
   "execution_count": 39,
   "id": "7783ee89",
   "metadata": {},
   "outputs": [
    {
     "data": {
      "text/plain": [
       "'alamirap'"
      ]
     },
     "execution_count": 39,
     "metadata": {},
     "output_type": "execute_result"
    }
   ],
   "source": [
    "#2.To reverse words in a string\n",
    "reverse=name[::-1]\n",
    "reverse"
   ]
  },
  {
   "cell_type": "code",
   "execution_count": 37,
   "id": "674e2947",
   "metadata": {},
   "outputs": [
    {
     "data": {
      "text/plain": [
       "'parimalaparimalaparimalaparimala'"
      ]
     },
     "execution_count": 37,
     "metadata": {},
     "output_type": "execute_result"
    }
   ],
   "source": [
    "#3.To display same string multiple times\n",
    "result=name*4\n",
    "result\n"
   ]
  },
  {
   "cell_type": "code",
   "execution_count": 42,
   "id": "d61e0397",
   "metadata": {},
   "outputs": [
    {
     "data": {
      "text/plain": [
       "'parimala chavanaboina'"
      ]
     },
     "execution_count": 42,
     "metadata": {},
     "output_type": "execute_result"
    }
   ],
   "source": [
    "#4.To concatenate two strings\n",
    "name1=\" chavanaboina\"\n",
    "concatenate=name+name1\n",
    "concatenate"
   ]
  },
  {
   "cell_type": "code",
   "execution_count": 43,
   "id": "aa5d6e9c",
   "metadata": {},
   "outputs": [
    {
     "data": {
      "text/plain": [
       "'india'"
      ]
     },
     "execution_count": 43,
     "metadata": {},
     "output_type": "execute_result"
    }
   ],
   "source": [
    "#5.Str1=\"south india\",using string sclicing to display\"india\"\n",
    "str1=\"south india\"\n",
    "str2=str1[6:]\n",
    "str2\n",
    "\n"
   ]
  },
  {
   "cell_type": "markdown",
   "id": "4a24ffd4",
   "metadata": {},
   "source": [
    "# 6.perform the following"
   ]
  },
  {
   "cell_type": "code",
   "execution_count": 50,
   "id": "ecd6200a",
   "metadata": {},
   "outputs": [
    {
     "data": {
      "text/plain": [
       "{'name': 'virat', 'age': 38, 'sport': 'cricket', 'country': 'india'}"
      ]
     },
     "execution_count": 50,
     "metadata": {},
     "output_type": "execute_result"
    }
   ],
   "source": [
    "#1.create the dictionary\n",
    "player={\"name\":\"virat\",\"age\":38,\"sport\":(\"cricket\"),\"country\":\"india\"}\n",
    "player"
   ]
  },
  {
   "cell_type": "code",
   "execution_count": 76,
   "id": "684c0850",
   "metadata": {},
   "outputs": [
    {
     "name": "stdout",
     "output_type": "stream",
     "text": [
      "name:virat\n",
      "age:38\n",
      "sport:cricket\n",
      "country:india\n"
     ]
    }
   ],
   "source": [
    "#2.Accesingvalues and keys in dictionary\n",
    "for i,j in player.items():\n",
    "    print(f\"{i}:{j}\")"
   ]
  },
  {
   "cell_type": "code",
   "execution_count": 93,
   "id": "e42c0fab",
   "metadata": {},
   "outputs": [
    {
     "name": "stdout",
     "output_type": "stream",
     "text": [
      "{'name': 'virat', 'age': 38, 'sport': 'cricket', 'country': 'india', 'food': 'chicken'}\n"
     ]
    }
   ],
   "source": [
    "#3.updating the dictionary using a function\n",
    "def update_player(player,i,j):\n",
    "    player[i]=j\n",
    "update_player(player,\"food\",\"chicken\")\n",
    "print(player)"
   ]
  },
  {
   "cell_type": "code",
   "execution_count": 79,
   "id": "005054ab",
   "metadata": {},
   "outputs": [
    {
     "name": "stdout",
     "output_type": "stream",
     "text": [
      "{'name': 'virat', 'age': 38, 'sport': 'cricket', 'country': 'india'}\n"
     ]
    }
   ],
   "source": [
    "#4.clear and delete the dictionary values\n",
    "player_details=player.copy()\n",
    "player.clear()\n",
    "del playeraa\n",
    "print(player_details)"
   ]
  },
  {
   "cell_type": "markdown",
   "id": "86d384a4",
   "metadata": {},
   "source": [
    "# 7.python program to insert a number to any position in a list"
   ]
  },
  {
   "cell_type": "code",
   "execution_count": 86,
   "id": "e2754e7f",
   "metadata": {},
   "outputs": [
    {
     "name": "stdout",
     "output_type": "stream",
     "text": [
      "[10, 15, 20, 25, 30, 35, 40, 45, 475, 839, 578, 984, 462, 342, 37, 72, 278]\n",
      "[10, 15, 635, 20, 25, 30, 35, 40, 45, 475, 839, 578, 984, 462, 342, 37, 72, 278]\n"
     ]
    }
   ],
   "source": [
    "#we can use insert to insert a number to any position in a list\n",
    "num=[10,15,20,25,30,35,40,45,475,839,578,984,462,342,37,72,278]\n",
    "print(num)\n",
    "num.insert(2,635)\n",
    "print(num)"
   ]
  },
  {
   "cell_type": "markdown",
   "id": "cc881005",
   "metadata": {},
   "source": [
    "# 8.python program to delete an element from a list by index\n"
   ]
  },
  {
   "cell_type": "code",
   "execution_count": 97,
   "id": "8ac9ac82",
   "metadata": {},
   "outputs": [
    {
     "name": "stdout",
     "output_type": "stream",
     "text": [
      "[10, 15, 635, 30, 40, 45, 475, 839, 578, 984, 462, 342, 37, 72, 278]\n",
      "[10, 15, 635, 40, 45, 475, 839, 578, 984, 462, 342, 37, 72, 278]\n",
      "[10, 15, 635, 40, 45, 839, 578, 984, 462, 342, 37, 72, 278]\n"
     ]
    }
   ],
   "source": [
    "#to delete element from  a list by index we can use pop(index)or del\n",
    "print(num)\n",
    "num.pop(3)\n",
    "print(num)\n",
    "\n",
    "del num[5]\n",
    "print(num)"
   ]
  },
  {
   "cell_type": "markdown",
   "id": "cdd9b1e4",
   "metadata": {},
   "source": [
    "# 9.write a program to display the numbers from 1 to 100"
   ]
  },
  {
   "cell_type": "code",
   "execution_count": 99,
   "id": "bb7f893b",
   "metadata": {},
   "outputs": [
    {
     "name": "stdout",
     "output_type": "stream",
     "text": [
      "1\n",
      "2\n",
      "3\n",
      "4\n",
      "5\n",
      "6\n",
      "7\n",
      "8\n",
      "9\n",
      "10\n",
      "11\n",
      "12\n",
      "13\n",
      "14\n",
      "15\n",
      "16\n",
      "17\n",
      "18\n",
      "19\n",
      "20\n",
      "21\n",
      "22\n",
      "23\n",
      "24\n",
      "25\n",
      "26\n",
      "27\n",
      "28\n",
      "29\n",
      "30\n",
      "31\n",
      "32\n",
      "33\n",
      "34\n",
      "35\n",
      "36\n",
      "37\n",
      "38\n",
      "39\n",
      "40\n",
      "41\n",
      "42\n",
      "43\n",
      "44\n",
      "45\n",
      "46\n",
      "47\n",
      "48\n",
      "49\n",
      "50\n",
      "51\n",
      "52\n",
      "53\n",
      "54\n",
      "55\n",
      "56\n",
      "57\n",
      "58\n",
      "59\n",
      "60\n",
      "61\n",
      "62\n",
      "63\n",
      "64\n",
      "65\n",
      "66\n",
      "67\n",
      "68\n",
      "69\n",
      "70\n",
      "71\n",
      "72\n",
      "73\n",
      "74\n",
      "75\n",
      "76\n",
      "77\n",
      "78\n",
      "79\n",
      "80\n",
      "81\n",
      "82\n",
      "83\n",
      "84\n",
      "85\n",
      "86\n",
      "87\n",
      "88\n",
      "89\n",
      "90\n",
      "91\n",
      "92\n",
      "93\n",
      "94\n",
      "95\n",
      "96\n",
      "97\n",
      "98\n",
      "99\n",
      "100\n"
     ]
    }
   ],
   "source": [
    "#we can use loop fro 1 to 100\n",
    "for i in range(1,101):\n",
    "    print(i)"
   ]
  },
  {
   "cell_type": "markdown",
   "id": "b25c1ca5",
   "metadata": {},
   "source": [
    "# 10.write a python program to find the sum of all items in a tuple"
   ]
  },
  {
   "cell_type": "code",
   "execution_count": 100,
   "id": "0803f1f4",
   "metadata": {},
   "outputs": [
    {
     "name": "stdout",
     "output_type": "stream",
     "text": [
      "90\n"
     ]
    }
   ],
   "source": [
    "#we can use sum to the sum of all items in a tuple\n",
    "values=(9,8,7,6,5,4,3,2,1,1,2,3,4,5,6,7,8,9)\n",
    "print(sum(values))"
   ]
  },
  {
   "cell_type": "markdown",
   "id": "6047086a",
   "metadata": {},
   "source": [
    "# 11create a dictionary containing three lamda functions square,cube,square root"
   ]
  },
  {
   "cell_type": "code",
   "execution_count": 106,
   "id": "303e21a0",
   "metadata": {},
   "outputs": [
    {
     "name": "stdout",
     "output_type": "stream",
     "text": [
      "square: 36\n",
      "Cube: 216\n",
      "Square Root: 2.449489742783178\n"
     ]
    }
   ],
   "source": [
    "\n",
    "math_operations = {\n",
    "    'square': lambda x: x**2,\n",
    "    'cube': lambda x: x**3,\n",
    "    'square_root': lambda x: x**0.5\n",
    "}\n",
    "\n",
    "number=6\n",
    "print(\"square:\",math_operations['square'](number))\n",
    "print(\"Cube:\", math_operations['cube'](number))\n",
    "print(\"Square Root:\", math_operations['square_root'](number))"
   ]
  },
  {
   "cell_type": "markdown",
   "id": "7a8b2207",
   "metadata": {},
   "source": [
    "# 12 a list of words is given .find out the words from the list that have their seconf character in uppercase\n"
   ]
  },
  {
   "cell_type": "code",
   "execution_count": 110,
   "id": "928d180c",
   "metadata": {},
   "outputs": [
    {
     "name": "stdout",
     "output_type": "stream",
     "text": [
      "['hello', 'Dear', 'hOw', 'ARe', 'You']\n",
      "['hOw', 'ARe']\n"
     ]
    }
   ],
   "source": [
    "\n",
    "ls = [\"hello\", \"Dear\", \"hOw\", \"ARe\", \"You\"]\n",
    "res = []\n",
    "for i in ls:\n",
    "    if i[1].isupper():\n",
    "        res.append(i)\n",
    "        \n",
    "print(ls)\n",
    "print(res)"
   ]
  },
  {
   "cell_type": "markdown",
   "id": "9478fc8b",
   "metadata": {},
   "source": [
    "# 13.A dictionaryod names and  their weights on the earth is given.Find how much they will weight on the moon.(use map nad lambda functions) formula: wmoon=(wEarth*Gmoon)/Gearth"
   ]
  },
  {
   "cell_type": "code",
   "execution_count": 120,
   "id": "fea72be0",
   "metadata": {
    "scrolled": true
   },
   "outputs": [
    {
     "name": "stdout",
     "output_type": "stream",
     "text": [
      "john :7.44 kg\n",
      "shelly :10.75 kg\n",
      "marry :5.79 kg\n"
     ]
    }
   ],
   "source": [
    "gmoon=1.622\n",
    "gearth=9.81\n",
    "weightonearth={'john':45,'shelly':65,'marry':35}\n",
    "moon_weight={name:(weight*gmoon)/gearth for name,weight in weightonearth.items()}\n",
    "for name,weight_moon in moon_weight.items():\n",
    "    print(f\"{name} :{weight_moon:.2f} kg\")"
   ]
  },
  {
   "cell_type": "markdown",
   "id": "e7be20e5",
   "metadata": {},
   "source": [
    "# Control structures\n"
   ]
  },
  {
   "cell_type": "markdown",
   "id": "fe5ce939",
   "metadata": {},
   "source": [
    "# 1.write a python program to find the first N prime numbers\n"
   ]
  },
  {
   "cell_type": "code",
   "execution_count": 85,
   "id": "89adc92c",
   "metadata": {},
   "outputs": [
    {
     "name": "stdout",
     "output_type": "stream",
     "text": [
      "The first 30 prime numbers are: [2, 3, 5, 7, 11, 13, 17, 19, 23, 29, 31, 37, 41, 43, 47, 53, 59, 61, 67, 71, 73, 79, 83, 89, 97, 101, 103, 107, 109, 113]\n"
     ]
    }
   ],
   "source": [
    "def is_prime(num):\n",
    "    if num <= 1:\n",
    "        return False\n",
    "    if num <= 3:\n",
    "        return True\n",
    "    if num % 2 == 0 or num % 3 == 0:\n",
    "        return False\n",
    "    i = 5\n",
    "    while i * i <= num:\n",
    "        if num % i == 0 or num % (i + 2) == 0:\n",
    "            return False\n",
    "        i += 6\n",
    "    return True\n",
    "\n",
    "def find_primes(N):\n",
    "    primes = []\n",
    "    num = 2\n",
    "    while len(primes) < N:\n",
    "        if is_prime(num):\n",
    "            primes.append(num)\n",
    "        num += 1\n",
    "    return primes\n",
    "\n",
    "N = 30\n",
    "prime_list = find_primes(N)\n",
    "print(f\"The first {N} prime numbers are: {prime_list}\")"
   ]
  },
  {
   "cell_type": "markdown",
   "id": "762eaeea",
   "metadata": {},
   "source": [
    "# 2.write the python code that calculates the salary of anemployee.Prompt the user to enter the Basic salary,HRA,TA, and DA.Add these components to calculate the Gross salary"
   ]
  },
  {
   "cell_type": "code",
   "execution_count": 83,
   "id": "6679e7bf",
   "metadata": {},
   "outputs": [
    {
     "name": "stdout",
     "output_type": "stream",
     "text": [
      "Enter the Base Salary14000\n",
      "Enter the HRA8000\n",
      "Enter the TA3000\n",
      "Enter the DA8\n",
      "The net salary of an employee is after 1400.0 tax deduction is: 25008.0\n"
     ]
    }
   ],
   "source": [
    "Basic_sal = float(input(\"Enter the Base Salary\"))\n",
    "HRA = int(input(\"Enter the HRA\"))\n",
    "TA = int(input(\"Enter the TA\"))\n",
    "DA = int(input(\"Enter the DA\"))\n",
    "\n",
    "Gross_salary = Basic_sal + float(HRA) + float(TA) + float(DA)\n",
    "\n",
    "net_salary = Gross_salary - (float(Basic_sal)*0.1)\n",
    "\n",
    "print(\"The net salary of an employee is after \" + str(float(Basic_sal)*0.1)+ \" tax deduction is: \"+str(Gross_salary))"
   ]
  },
  {
   "cell_type": "markdown",
   "id": "ed10f4d3",
   "metadata": {},
   "source": [
    "# 3 write a python program to search for a stringin the given list"
   ]
  },
  {
   "cell_type": "code",
   "execution_count": 163,
   "id": "d4827188",
   "metadata": {},
   "outputs": [
    {
     "name": "stdout",
     "output_type": "stream",
     "text": [
      "raj\n"
     ]
    }
   ],
   "source": [
    "m = [\"45\", \"20\", \"pandu\", \"raj\"]\n",
    "s = \"raj\"\n",
    "if s in m:\n",
    "    print(f\"{s}\")\n",
    "else:\n",
    "    print(f\"{s}\")\n"
   ]
  },
  {
   "cell_type": "markdown",
   "id": "770892e5",
   "metadata": {},
   "source": [
    "# 4.write a python program that accepts a string and calculates the number of upper-case letters and lower-case letters."
   ]
  },
  {
   "cell_type": "code",
   "execution_count": 82,
   "id": "cfcbee51",
   "metadata": {},
   "outputs": [
    {
     "name": "stdout",
     "output_type": "stream",
     "text": [
      "Uppercase letters: 1\n",
      "Lowercase letters: 5\n"
     ]
    }
   ],
   "source": [
    "def count_upper_lower(n):\n",
    "    upper_count = 0\n",
    "    lower_count = 0\n",
    "    \n",
    "    for char in n:\n",
    "        if char.isupper():\n",
    "            upper_count += 1\n",
    "        elif char.islower():\n",
    "            lower_count+= 1\n",
    "            \n",
    "    return upper_count, lower_count\n",
    "input_string = \"Python\"\n",
    "upper,lower = count_upper_lower(input_string)\n",
    "print(\"Uppercase letters:\",upper)\n",
    "print(\"Lowercase letters:\",lower)\n",
    "\n",
    "\n",
    "\n"
   ]
  },
  {
   "cell_type": "markdown",
   "id": "e6963dd5",
   "metadata": {},
   "source": [
    "# 5 write a python program to display the sum of odd numbers and even numbers that are fall between 12 and37"
   ]
  },
  {
   "cell_type": "code",
   "execution_count": 170,
   "id": "e525a827",
   "metadata": {},
   "outputs": [
    {
     "name": "stdout",
     "output_type": "stream",
     "text": [
      "Sum of odd numbers: 325\n",
      "Sum of even numbers: 312\n"
     ]
    }
   ],
   "source": [
    "odd_sum = 0\n",
    "even_sum = 0\n",
    "for number in range(12, 38):\n",
    "    if number % 2 == 0:  # Check if the number is even\n",
    "        even_sum += number\n",
    "    else:\n",
    "        odd_sum += number\n",
    "print(\"Sum of odd numbers:\",odd_sum)\n",
    "print(\"Sum of even numbers:\", even_sum)\n"
   ]
  },
  {
   "cell_type": "markdown",
   "id": "03e602a2",
   "metadata": {},
   "source": [
    "# 6.write a python program to print the table of any number"
   ]
  },
  {
   "cell_type": "code",
   "execution_count": 3,
   "id": "af42774a",
   "metadata": {},
   "outputs": [
    {
     "name": "stdout",
     "output_type": "stream",
     "text": [
      "table of 23:\n",
      "23*1=23\n",
      "23*2=46\n",
      "23*3=69\n",
      "23*4=92\n",
      "23*5=115\n",
      "23*6=138\n",
      "23*7=161\n",
      "23*8=184\n",
      "23*9=207\n",
      "23*10=230\n"
     ]
    }
   ],
   "source": [
    "num=23\n",
    "print(f\"table of {23}:\")\n",
    "for i in range(1,11):\n",
    "    print(f\"{num}*{i}={num*i}\")\n"
   ]
  },
  {
   "cell_type": "markdown",
   "id": "bcc7ba95",
   "metadata": {},
   "source": [
    "# 7.write a python program to sum the first 10 prime  numbers"
   ]
  },
  {
   "cell_type": "code",
   "execution_count": 5,
   "id": "4c8cda5a",
   "metadata": {},
   "outputs": [
    {
     "name": "stdout",
     "output_type": "stream",
     "text": [
      "The sum of the first 10 prime numbers is: 129\n"
     ]
    }
   ],
   "source": [
    "def is_prime(num):\n",
    "    if num <= 1:\n",
    "        return False\n",
    "    if num == 2:\n",
    "        return True\n",
    "    if num % 2 == 0:\n",
    "        return False\n",
    "    for i in range(3, int(num ** 0.5) + 1, 2):\n",
    "        if num % i == 0:\n",
    "            return False\n",
    "    return True\n",
    "\n",
    "def sum_first_10_primes():\n",
    "    primes = []\n",
    "    num = 2\n",
    "    while len(primes) < 10:\n",
    "        if is_prime(num):\n",
    "            primes.append(num)\n",
    "        num += 1\n",
    "    return sum(primes)\n",
    "\n",
    "result = sum_first_10_primes()\n",
    "print(\"The sum of the first 10 prime numbers is:\",result)"
   ]
  },
  {
   "cell_type": "markdown",
   "id": "e57c9765",
   "metadata": {},
   "source": [
    "# 8.write a python program to implement arithmetic operationsusing nested if statement"
   ]
  },
  {
   "cell_type": "code",
   "execution_count": 45,
   "id": "6b5fa2e0",
   "metadata": {},
   "outputs": [
    {
     "name": "stdout",
     "output_type": "stream",
     "text": [
      "Enter an operator (+, -, *, /): +\n",
      "Enter the first number: 10.5\n",
      "Enter the second number: 56.8\n",
      "Result: 67.3\n"
     ]
    }
   ],
   "source": [
    "def arithmetic_operations(operator, num1, num2):\n",
    "    if operator == \"+\":\n",
    "        result = num1 + num2\n",
    "    elif operator == \"-\":\n",
    "        result = num1 - num2\n",
    "    elif operator == \"*\":\n",
    "        result = num1 * num2\n",
    "    elif operator == \"/\":\n",
    "        if num2 != 0:\n",
    "            result = num1 / num2\n",
    "        else:\n",
    "            result = \"Division by zero is not allowed\"\n",
    "    else:\n",
    "        result = \"Invalid operator\"\n",
    "    \n",
    "    return result\n",
    "\n",
    "operator = input(\"Enter an operator (+, -, *, /): \")\n",
    "num1 = float(input(\"Enter the first number: \"))\n",
    "num2 = float(input(\"Enter the second number: \"))\n",
    "\n",
    "result = arithmetic_operations(operator, num1, num2)\n",
    "print(f\"Result: {result}\")"
   ]
  },
  {
   "cell_type": "markdown",
   "id": "b529c3d2",
   "metadata": {},
   "source": [
    "# 9.write a python program to take the temperature in celsius and convert it to a fahrebheit"
   ]
  },
  {
   "cell_type": "code",
   "execution_count": 46,
   "id": "aad09fe2",
   "metadata": {},
   "outputs": [
    {
     "name": "stdout",
     "output_type": "stream",
     "text": [
      "40 degrees Celsius is equal to 104.0 degrees Fahrenheit\n"
     ]
    }
   ],
   "source": [
    "celsius = 40\n",
    "fahrenheit = (celsius * 9/5) + 32\n",
    "print(f\"{celsius} degrees Celsius is equal to {fahrenheit} degrees Fahrenheit\")"
   ]
  },
  {
   "cell_type": "markdown",
   "id": "1b44f401",
   "metadata": {},
   "source": [
    "# 10.write a python program to find a maximum and minimum number in a list without using an inbuilt function"
   ]
  },
  {
   "cell_type": "code",
   "execution_count": 52,
   "id": "d6311117",
   "metadata": {},
   "outputs": [
    {
     "name": "stdout",
     "output_type": "stream",
     "text": [
      "Maximum: 7858\n",
      "Minimum: -8904\n"
     ]
    }
   ],
   "source": [
    "def find_max_min(numbers):\n",
    "    if len(numbers) == 0:\n",
    "        return None\n",
    "\n",
    "    max_num = min_num = numbers[0]\n",
    "    for num in numbers:\n",
    "        if num > max_num:\n",
    "            max_num = num\n",
    "        elif num < min_num:\n",
    "            min_num = num\n",
    "\n",
    "    return max_num, min_num\n",
    "\n",
    "numbers_list = [23, 7858, 5, 534, 1,6540, -8904]\n",
    "max_val, min_val = find_max_min(numbers_list)\n",
    "print(\"Maximum:\", max_val)\n",
    "print(\"Minimum:\", min_val)"
   ]
  },
  {
   "cell_type": "markdown",
   "id": "48bb1bde",
   "metadata": {},
   "source": [
    "# 11.write a python program to print out the number of seconds in 30-day month 30 days,24hours in a day,60 minutes per day,60 seconds in a minute"
   ]
  },
  {
   "cell_type": "code",
   "execution_count": 53,
   "id": "2d1584fe",
   "metadata": {},
   "outputs": [
    {
     "name": "stdout",
     "output_type": "stream",
     "text": [
      "Number of seconds in a 30-day month: 2592000\n"
     ]
    }
   ],
   "source": [
    "days_per_month = 30\n",
    "hours_per_day = 24\n",
    "minutes_per_hour = 60\n",
    "seconds_per_minute = 60\n",
    "seconds_in_month = days_per_month * hours_per_day * minutes_per_hour * seconds_per_minute\n",
    "print(\"Number of seconds in a 30-day month:\", seconds_in_month)\n",
    "\n"
   ]
  },
  {
   "cell_type": "markdown",
   "id": "5b79316e",
   "metadata": {},
   "source": [
    "# 12.write a program in python to print out the number of seconds ina year"
   ]
  },
  {
   "cell_type": "code",
   "execution_count": 54,
   "id": "7f20def6",
   "metadata": {},
   "outputs": [
    {
     "name": "stdout",
     "output_type": "stream",
     "text": [
      "Number of seconds in a year: 31536000\n"
     ]
    }
   ],
   "source": [
    "seconds_per_minute = 60\n",
    "seconds_per_hour = 60 * seconds_per_minute\n",
    "seconds_per_day = 24 * seconds_per_hour\n",
    "days_in_year = 365\n",
    "seconds_in_year = days_in_year * seconds_per_day\n",
    "print(\"Number of seconds in a year:\", seconds_in_year)"
   ]
  },
  {
   "cell_type": "markdown",
   "id": "3ab6f3d4",
   "metadata": {},
   "source": [
    "# 13. A high speed train can travel an average speed of 150kmh,how long will it take a train travelling at this speed to travel from  london to glasgow which is 414 miles away"
   ]
  },
  {
   "cell_type": "code",
   "execution_count": 55,
   "id": "411a0a09",
   "metadata": {},
   "outputs": [
    {
     "name": "stdout",
     "output_type": "stream",
     "text": [
      "it will take 2.76 hours for the train to travel from london to glasgow.\n"
     ]
    }
   ],
   "source": [
    "distance=414\n",
    "speed=150\n",
    "time=distance / speed\n",
    "print(f\"it will take {time:.2f} hours for the train to travel from london to glasgow.\")"
   ]
  },
  {
   "cell_type": "markdown",
   "id": "7fd1714e",
   "metadata": {},
   "source": [
    "# 14.write a python program that defines a variable called days_in_each_school_year and assign 192 to the variable.the program should he print out the total hours that you spend in school from year 7  to year 11,if each day you spend 6 hours in school days_in_each_school_year=192\n",
    "\n"
   ]
  },
  {
   "cell_type": "code",
   "execution_count": 47,
   "id": "e358b35c",
   "metadata": {},
   "outputs": [
    {
     "name": "stdout",
     "output_type": "stream",
     "text": [
      "Total hours spent in school from year 7 to year 11: 5760\n"
     ]
    }
   ],
   "source": [
    "days_in_each_school_year = 192\n",
    "\n",
    "start_year = 7\n",
    "end_year = 11\n",
    "\n",
    "hours_per_day = 6\n",
    "\n",
    "total_hours = (end_year - start_year + 1) * days_in_each_school_year * hours_per_day\n",
    "\n",
    "print(f\"Total hours spent in school from year {start_year} to year {end_year}: {total_hours}\")"
   ]
  },
  {
   "cell_type": "markdown",
   "id": "ed54f748",
   "metadata": {},
   "source": [
    "# 15.if the age of ram,sam and khan are input through the keyboard,write a python program to determine the eldest and youngest of the three"
   ]
  },
  {
   "cell_type": "code",
   "execution_count": 56,
   "id": "717f94c3",
   "metadata": {},
   "outputs": [
    {
     "name": "stdout",
     "output_type": "stream",
     "text": [
      "The eldest among Ram, Sam, and Khan is Sam.\n",
      "The youngest among Ram, Sam, and Khan is Khan.\n"
     ]
    }
   ],
   "source": [
    "ram_age =45\n",
    "sam_age = 76\n",
    "khan_age = 34\n",
    "if ram_age >= sam_age and ram_age >= khan_age:\n",
    "    eldest = \"Ram\"\n",
    "elif sam_age >= ram_age and sam_age >= khan_age:\n",
    "    eldest = \"Sam\"\n",
    "else:\n",
    "    eldest = \"Khan\"\n",
    "if ram_age <= sam_age and ram_age <= khan_age:\n",
    "    youngest = \"Ram\"\n",
    "elif sam_age <= ram_age and sam_age <= khan_age:\n",
    "    youngest = \"Sam\"\n",
    "else:\n",
    "    youngest = \"Khan\"\n",
    "print(f\"The eldest among Ram, Sam, and Khan is {eldest}.\")\n",
    "print(f\"The youngest among Ram, Sam, and Khan is {youngest}.\")"
   ]
  },
  {
   "cell_type": "markdown",
   "id": "23ba9493",
   "metadata": {},
   "source": [
    "# 16.write a python program to rotate a list by right n times with and without sclicing technique"
   ]
  },
  {
   "cell_type": "code",
   "execution_count": 63,
   "id": "d42d3a55",
   "metadata": {},
   "outputs": [
    {
     "name": "stdout",
     "output_type": "stream",
     "text": [
      "Rotated list with slicing: [453, 454, 25, 10, 22]\n",
      "Original List: [256, 35, 764, 5435, 14]\n"
     ]
    }
   ],
   "source": [
    "def rotate_list_with_slicing(lst, n):\n",
    "    n = n % len(lst) \n",
    "    rotated_list = lst[-n:] + lst[:-n]\n",
    "    return rotated_list\n",
    "my_list = [10,22, 453, 454, 25]\n",
    "\n",
    "\n",
    "rotations = 3\n",
    "result = rotate_list_with_slicing(my_list, rotations)\n",
    "print(\"Rotated list with slicing:\",result)\n",
    "def rotate_right_without_slicing(lst, n):\n",
    "    n = n % len(lst)  \n",
    "    for _ in range(n):\n",
    "        lst.insert(0, lst.pop())\n",
    "\n",
    "original_list = [14, 256, 35, 764, 5435]\n",
    "n = 4\n",
    "rotate_right_without_slicing(original_list, n)\n",
    "print(f\"Original List: {original_list}\")"
   ]
  },
  {
   "cell_type": "markdown",
   "id": "98c4a7ff",
   "metadata": {},
   "source": [
    "# 17.python program to print the patterns given below"
   ]
  },
  {
   "cell_type": "code",
   "execution_count": 39,
   "id": "2a0f704f",
   "metadata": {},
   "outputs": [
    {
     "name": "stdout",
     "output_type": "stream",
     "text": [
      "\n",
      "\n",
      "       1        \n",
      "      1 1       \n",
      "     1 2 1      \n",
      "    1 3 3 1     \n",
      "   1 4 6 4 1    \n",
      " 1 5 10 10 5 1  \n",
      "1 6 15 20 15 6 1\n"
     ]
    }
   ],
   "source": [
    " #1 its a pascal triangle the value\n",
    "#is dependent on the summation of above two cells\n",
    "     \n",
    "def pattern1(num_rows):\n",
    "    ans =[]\n",
    "    for i in range(num_rows):\n",
    "        row=[1]\n",
    "        if i > 0:\n",
    "            for j in range(1,i):\n",
    "                element=ans[i - 1][j - 1] + ans[i -1][j]\n",
    "                row.append(element)\n",
    "            row.append(1)\n",
    "        ans.append(row)\n",
    "    return ans\n",
    "def print_(ans):\n",
    "    max_width =len(' '.join(map(str,ans[-1])))\n",
    "    for row in ans:\n",
    "        formatted_row = ' '.join(map(str,row))\n",
    "        print(formatted_row.center(max_width))\n",
    "num_rows=7\n",
    "print(\"\\n\")\n",
    "triangle=pattern1(num_rows)\n",
    "print_(triangle)\n",
    "            "
   ]
  },
  {
   "cell_type": "markdown",
   "id": "16272c65",
   "metadata": {},
   "source": [
    "# 2.given pattern is a right angle traingle"
   ]
  },
  {
   "cell_type": "code",
   "execution_count": 18,
   "id": "aa302b34",
   "metadata": {},
   "outputs": [
    {
     "name": "stdout",
     "output_type": "stream",
     "text": [
      "\n",
      "\n",
      " \n",
      "* \n",
      "** \n",
      "*** \n",
      "**** \n",
      "***** \n"
     ]
    }
   ],
   "source": [
    "\n",
    "num=int(input(\"enter the number of rows\"))\n",
    "print(\"\\n\")\n",
    "for i in range(0,num):\n",
    "    for j in range(0,i):\n",
    "        print(\"*\",end=\"\")\n",
    "    print(\" \")"
   ]
  },
  {
   "cell_type": "markdown",
   "id": "5eae7c59",
   "metadata": {},
   "source": [
    "# 3.given pattern is pyramid with spaces and asterisks"
   ]
  },
  {
   "cell_type": "code",
   "execution_count": 44,
   "id": "a837362a",
   "metadata": {},
   "outputs": [
    {
     "name": "stdout",
     "output_type": "stream",
     "text": [
      "enter the number of rows7\n",
      "\n",
      "\n",
      "      * \n",
      "     * * \n",
      "    * * * \n",
      "   * * * * \n",
      "  * * * * * \n",
      " * * * * * * \n",
      "* * * * * * * \n"
     ]
    }
   ],
   "source": [
    "\n",
    "num =int(input(\"enter the number of rows\"))\n",
    "print(\"\\n\")\n",
    "    \n",
    "for i in range(num):\n",
    "    print(\" \" * (num - i - 1) + \"* \" * (i + 1))"
   ]
  },
  {
   "cell_type": "markdown",
   "id": "17911a61",
   "metadata": {},
   "source": [
    "# 4.right angle triangle with a string"
   ]
  },
  {
   "cell_type": "code",
   "execution_count": 46,
   "id": "2de15834",
   "metadata": {},
   "outputs": [
    {
     "name": "stdout",
     "output_type": "stream",
     "text": [
      "enter a title :python\n",
      "p\n",
      "py\n",
      "pyt\n",
      "pyth\n",
      "pytho\n",
      "python\n"
     ]
    }
   ],
   "source": [
    "title=input(\"enter a title :\")\n",
    "for i in range(len(title)):\n",
    "    print(title[:i+1])"
   ]
  },
  {
   "cell_type": "markdown",
   "id": "f4cff6cd",
   "metadata": {},
   "source": [
    "# "
   ]
  },
  {
   "cell_type": "code",
   "execution_count": null,
   "id": "9ef7afa7",
   "metadata": {},
   "outputs": [],
   "source": []
  }
 ],
 "metadata": {
  "kernelspec": {
   "display_name": "Python 3 (ipykernel)",
   "language": "python",
   "name": "python3"
  },
  "language_info": {
   "codemirror_mode": {
    "name": "ipython",
    "version": 3
   },
   "file_extension": ".py",
   "mimetype": "text/x-python",
   "name": "python",
   "nbconvert_exporter": "python",
   "pygments_lexer": "ipython3",
   "version": "3.11.4"
  }
 },
 "nbformat": 4,
 "nbformat_minor": 5
}
