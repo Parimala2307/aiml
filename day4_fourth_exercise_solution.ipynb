{
 "cells": [
  {
   "cell_type": "markdown",
   "id": "7909ecbe",
   "metadata": {},
   "source": [
    "# 4 Write a python program to implement word count using command line arguments\n",
    "1.create a text document \"apple.txt\" which contains text for wordcount\n",
    "2.create a wordcount program which call the \"apple.txt\" document by opening the file\n",
    "3.If the word is present again in the \"apple.txt\", \n",
    "the wordcount is incremented by 1 until all the words are counted in the document\n",
    "4.close the file\n",
    "5.create a command.py program which imports the wordcount.py program\n",
    "6.count the number of words using command line argumnets\n",
    "7.print each word and its count\n",
    "\n",
    " "
   ]
  },
  {
   "cell_type": "code",
   "execution_count": null,
   "id": "62c60abc",
   "metadata": {},
   "outputs": [],
   "source": [
    "import sys\n",
    "\n",
    "def count_words(input_file):\n",
    "    word_counts = {}\n",
    "    try:\n",
    "        with open(input_file, 'r') as file:\n",
    "            for line in file:\n",
    "                words = line.split()\n",
    "                for word in words:\n",
    "                    word = word.lower() \n",
    "                    if word in word_counts:\n",
    "                        word_counts[word] += 1\n",
    "                    else:\n",
    "                        word_counts[word] = 1\n",
    "\n",
    "    except FileNotFoundError:\n",
    "        print(f\"File '{filename}' not found.\")\n",
    "    except Exception as e:\n",
    "        print(f\"An error occurred: {e}\")\n",
    "\n",
    "    return word_counts\n",
    "\n",
    "if __name__ == \"__main__\":\n",
    "    if len(sys.argv) != 2:\n",
    "        print(\"Usage: python your_script.py <filename>\")\n",
    "        sys.exit(1)\n",
    "\n",
    "    input_file = sys.argv[1]\n",
    "    num_of_words = count_words(input_file)\n",
    "    for word, count in num_of_words.items():\n",
    "        print(f\"word: {word} and its count: [{count}]\")"
   ]
  }
 ],
 "metadata": {
  "kernelspec": {
   "display_name": "Python 3 (ipykernel)",
   "language": "python",
   "name": "python3"
  },
  "language_info": {
   "codemirror_mode": {
    "name": "ipython",
    "version": 3
   },
   "file_extension": ".py",
   "mimetype": "text/x-python",
   "name": "python",
   "nbconvert_exporter": "python",
   "pygments_lexer": "ipython3",
   "version": "3.11.4"
  }
 },
 "nbformat": 4,
 "nbformat_minor": 5
}
