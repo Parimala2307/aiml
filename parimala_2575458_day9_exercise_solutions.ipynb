{
 "cells": [
  {
   "cell_type": "markdown",
   "id": "116be262",
   "metadata": {},
   "source": [
    "# 1.create a 3x3 array with random values"
   ]
  },
  {
   "cell_type": "code",
   "execution_count": 3,
   "id": "e2b6d601",
   "metadata": {},
   "outputs": [
    {
     "name": "stdout",
     "output_type": "stream",
     "text": [
      "[[[0.15554788 0.36741759]\n",
      "  [0.74926228 0.51285419]]\n",
      "\n",
      " [[0.60644867 0.81823081]\n",
      "  [0.24409965 0.42492316]]]\n"
     ]
    }
   ],
   "source": [
    "import numpy as np\n",
    "\n",
    "# Create a 3x3x3 array with random values between 0 and 1\n",
    "random_array = np.random.rand(2, 2, 2)\n",
    "\n",
    "print(random_array)"
   ]
  },
  {
   "cell_type": "markdown",
   "id": "bd6b210b",
   "metadata": {},
   "source": [
    "# 2.create a 5x5 matrix with values 1,2,3,4 just below the diagonal"
   ]
  },
  {
   "cell_type": "code",
   "execution_count": 4,
   "id": "b0b14791",
   "metadata": {},
   "outputs": [
    {
     "name": "stdout",
     "output_type": "stream",
     "text": [
      "[[0. 0. 0. 0. 0.]\n",
      " [2. 0. 0. 0. 0.]\n",
      " [3. 2. 0. 0. 0.]\n",
      " [4. 3. 2. 0. 0.]\n",
      " [0. 4. 3. 2. 0.]]\n"
     ]
    }
   ],
   "source": [
    "import numpy as np\n",
    "\n",
    "matrix = np.zeros((5, 5))\n",
    "\n",
    "np.fill_diagonal(matrix[1:], 2)\n",
    "np.fill_diagonal(matrix[2:], 3)\n",
    "np.fill_diagonal(matrix[3:], 4)\n",
    "\n",
    "print(matrix)"
   ]
  },
  {
   "cell_type": "markdown",
   "id": "0e66c33a",
   "metadata": {},
   "source": [
    "# 3.create a 8x8 matrix and fill it with a checkboard pattern"
   ]
  },
  {
   "cell_type": "code",
   "execution_count": 5,
   "id": "01f4916c",
   "metadata": {},
   "outputs": [
    {
     "name": "stdout",
     "output_type": "stream",
     "text": [
      "0 1 0 1 0 1 0 1\n",
      "1 0 1 0 1 0 1 0\n",
      "0 1 0 1 0 1 0 1\n",
      "1 0 1 0 1 0 1 0\n",
      "0 1 0 1 0 1 0 1\n",
      "1 0 1 0 1 0 1 0\n",
      "0 1 0 1 0 1 0 1\n",
      "1 0 1 0 1 0 1 0\n"
     ]
    }
   ],
   "source": [
    "import numpy as np\n",
    "\n",
    "\n",
    "matrix = np.zeros((8, 8), dtype=int)\n",
    "\n",
    "matrix[1::2, ::2] = 1  \n",
    "matrix[::2, 1::2] = 1  \n",
    "\n",
    "for row in matrix:\n",
    "    print(\" \".join(map(str, row)))"
   ]
  },
  {
   "cell_type": "markdown",
   "id": "709debff",
   "metadata": {},
   "source": [
    "# 4.normalize a 5x5 random matrix"
   ]
  },
  {
   "cell_type": "code",
   "execution_count": 6,
   "id": "9d58ec43",
   "metadata": {},
   "outputs": [
    {
     "name": "stdout",
     "output_type": "stream",
     "text": [
      "Original Matrix:\n",
      "[[0.7520068  0.65438322 0.29633408 0.50476002 0.74347023]\n",
      " [0.9421088  0.3528463  0.38772067 0.78386848 0.95716472]\n",
      " [0.23596304 0.68257535 0.15121626 0.28822739 0.32184338]\n",
      " [0.21145552 0.11663155 0.85446641 0.13372699 0.84931581]\n",
      " [0.39658284 0.21610441 0.05829017 0.36179015 0.51524366]]\n",
      "\n",
      "Normalized Matrix:\n",
      "[[0.77176134 0.66315489 0.26482439 0.49669873 0.76226439]\n",
      " [0.98325026 0.32769437 0.36649219 0.80720754 1.        ]\n",
      " [0.19766148 0.6945187  0.10338049 0.25580568 0.29320355]\n",
      " [0.17039681 0.06490492 0.8857479  0.08392363 0.88001785]\n",
      " [0.37635138 0.17556871 0.         0.33764443 0.50836181]]\n"
     ]
    }
   ],
   "source": [
    "import numpy as np\n",
    "\n",
    "matrix = np.random.rand(5, 5)\n",
    "\n",
    "min_value = np.min(matrix)\n",
    "max_value = np.max(matrix)\n",
    "\n",
    "normalized_matrix = (matrix - min_value) / (max_value - min_value)\n",
    "\n",
    "print(\"Original Matrix:\")\n",
    "print(matrix)\n",
    "print(\"\\nNormalized Matrix:\")\n",
    "print(normalized_matrix)"
   ]
  },
  {
   "cell_type": "markdown",
   "id": "bb000be6",
   "metadata": {},
   "source": [
    "# 5.how to find common values between two arrays?"
   ]
  },
  {
   "cell_type": "code",
   "execution_count": 7,
   "id": "f8182abd",
   "metadata": {},
   "outputs": [
    {
     "name": "stdout",
     "output_type": "stream",
     "text": [
      "Common values between the two arrays: [1 4 5]\n"
     ]
    }
   ],
   "source": [
    "import numpy as np\n",
    "\n",
    "array1 = np.array([1, 6, 3, 4, 5])\n",
    "array2 = np.array([1, 4, 5, 2, 7])\n",
    "\n",
    "common_values = np.intersect1d(array1, array2)\n",
    "\n",
    "print(\"Common values between the two arrays:\", common_values)"
   ]
  },
  {
   "cell_type": "markdown",
   "id": "e1efda56",
   "metadata": {},
   "source": [
    "# 6.how to get the dates of yesterday,today,and tommorrow?"
   ]
  },
  {
   "cell_type": "code",
   "execution_count": 9,
   "id": "c56f492b",
   "metadata": {},
   "outputs": [
    {
     "name": "stdout",
     "output_type": "stream",
     "text": [
      "2023-09-20\n",
      "2023-09-21\n",
      "2023-09-22\n"
     ]
    }
   ],
   "source": [
    "import numpy as np\n",
    "from datetime import datetime, timedelta\n",
    "\n",
    "today = datetime.now()\n",
    "\n",
    "yesterday = today - timedelta(days=1)\n",
    "tomorrow = today + timedelta(days=1)\n",
    "\n",
    "dates = np.array([yesterday, today, tomorrow])\n",
    "\n",
    "for date in dates:\n",
    "    print(date.strftime(\"%Y-%m-%d\"))"
   ]
  },
  {
   "cell_type": "markdown",
   "id": "eb27fbbb",
   "metadata": {},
   "source": [
    "# 7.consider two random array A and B,check if they are equal"
   ]
  },
  {
   "cell_type": "code",
   "execution_count": 15,
   "id": "38cd90df",
   "metadata": {},
   "outputs": [
    {
     "name": "stdout",
     "output_type": "stream",
     "text": [
      "Arrays A and B are not equal.\n"
     ]
    }
   ],
   "source": [
    "import numpy as np\n",
    "\n",
    "# Create two random arrays A and B\n",
    "A = np.random.rand(4, 5)\n",
    "B = np.random.rand(4, 5)\n",
    "\n",
    "# Check if A and B are equal\n",
    "if np.array_equal(A, B):\n",
    "    print(\"Arrays A and B are equal.\")\n",
    "else:\n",
    "    print(\"Arrays A and B are not equal.\")"
   ]
  },
  {
   "cell_type": "markdown",
   "id": "02476c32",
   "metadata": {},
   "source": [
    "# 8.create random vector of size 10 and replace the maximum value by 0"
   ]
  },
  {
   "cell_type": "code",
   "execution_count": 17,
   "id": "07185f00",
   "metadata": {},
   "outputs": [
    {
     "name": "stdout",
     "output_type": "stream",
     "text": [
      "Random vector with the maximum value replaced: [0.23074234 0.7649117  0.         0.74999925 0.33940382 0.48954894\n",
      " 0.33898512 0.17949026 0.1709866  0.46345098]\n"
     ]
    }
   ],
   "source": [
    "import numpy as np\n",
    "\n",
    "random_vector = np.random.rand(10)\n",
    "\n",
    "max_index = np.argmax(random_vector)\n",
    "\n",
    "random_vector[max_index] = 0\n",
    "\n",
    "print(\"Random vector with the maximum value replaced:\", random_vector)\n",
    "\n"
   ]
  },
  {
   "cell_type": "markdown",
   "id": "6ab2af2e",
   "metadata": {},
   "source": [
    "# 9.how to print all the values of an array?"
   ]
  },
  {
   "cell_type": "code",
   "execution_count": 16,
   "id": "78799e03",
   "metadata": {},
   "outputs": [
    {
     "name": "stdout",
     "output_type": "stream",
     "text": [
      "1\n",
      "2\n",
      "3\n",
      "4\n",
      "5\n",
      "6\n",
      "7\n",
      "8\n",
      "9\n"
     ]
    }
   ],
   "source": [
    "import numpy as np\n",
    "\n",
    "my_array = np.array([[1, 2, 3], [4, 5, 6], [7, 8, 9]])\n",
    "\n",
    "for value in np.nditer(my_array):\n",
    "    print(value)"
   ]
  },
  {
   "cell_type": "markdown",
   "id": "7d4e3b08",
   "metadata": {},
   "source": [
    "# 10.subtract the mean of each row of a matrix"
   ]
  },
  {
   "cell_type": "code",
   "execution_count": 18,
   "id": "9bc72499",
   "metadata": {},
   "outputs": [
    {
     "name": "stdout",
     "output_type": "stream",
     "text": [
      "Original Matrix:\n",
      "[[1 2 3]\n",
      " [4 5 6]\n",
      " [2 8 1]]\n",
      "\n",
      "Matrix with Row Means Subtracted:\n",
      "[[-1.          0.          1.        ]\n",
      " [-1.          0.          1.        ]\n",
      " [-1.66666667  4.33333333 -2.66666667]]\n"
     ]
    }
   ],
   "source": [
    "import numpy as np\n",
    "\n",
    "matrix = np.array([[1, 2, 3],\n",
    "                   [4, 5, 6],\n",
    "                   [2, 8, 1]])\n",
    "\n",
    "row_means = np.mean(matrix, axis=1)\n",
    "\n",
    "result_matrix = matrix - row_means.reshape(-1, 1)\n",
    "\n",
    "print(\"Original Matrix:\")\n",
    "print(matrix)\n",
    "print(\"\\nMatrix with Row Means Subtracted:\")\n",
    "print(result_matrix)"
   ]
  },
  {
   "cell_type": "markdown",
   "id": "1bfacba3",
   "metadata": {},
   "source": [
    "# 11.consider a given vector,how to add 1 to each element indexed by a second vector (be careful with repeated indices)"
   ]
  },
  {
   "cell_type": "code",
   "execution_count": 19,
   "id": "ca07990e",
   "metadata": {},
   "outputs": [
    {
     "name": "stdout",
     "output_type": "stream",
     "text": [
      "[2 4 4 5 6]\n"
     ]
    }
   ],
   "source": [
    "import numpy as np\n",
    "\n",
    "given_vector = np.array([1, 2, 3, 4, 5])\n",
    "\n",
    "indices_vector = np.array([1, 3, 2, 1, 4, 0])\n",
    "\n",
    "index_counts = {}\n",
    "for index in indices_vector:\n",
    "    if index in index_counts:\n",
    "        index_counts[index] += 1\n",
    "    else:\n",
    "        index_counts[index] = 1\n",
    "\n",
    "result_vector = given_vector.copy()\n",
    "for index, count in index_counts.items():\n",
    "    result_vector[index] += count\n",
    "\n",
    "print(result_vector)"
   ]
  },
  {
   "cell_type": "markdown",
   "id": "8e2fba27",
   "metadata": {},
   "source": [
    "# 12.how to get the diagonal if a dot product"
   ]
  },
  {
   "cell_type": "code",
   "execution_count": 26,
   "id": "9828cbb1",
   "metadata": {},
   "outputs": [
    {
     "name": "stdout",
     "output_type": "stream",
     "text": [
      "Dot Product:\n",
      "[[19 22]\n",
      " [43 50]]\n",
      "Diagonal of the Dot Product:\n",
      "[19 50]\n"
     ]
    }
   ],
   "source": [
    "import numpy as np\n",
    "\n",
    "matrix_A = np.array([[1, 2],\n",
    "                     [3, 4]])\n",
    "\n",
    "matrix_B = np.array([[5, 6],\n",
    "                     [7, 8]])\n",
    "\n",
    "dot_product = np.dot(matrix_A, matrix_B)\n",
    "\n",
    "diagonal = np.diagonal(dot_product)\n",
    "\n",
    "print(\"Dot Product:\")\n",
    "print(dot_product)\n",
    "\n",
    "print(\"Diagonal of the Dot Product:\")\n",
    "print(diagonal)"
   ]
  },
  {
   "cell_type": "markdown",
   "id": "6a3530c9",
   "metadata": {},
   "source": [
    "# 13.how to find the most frequent value in an array?"
   ]
  },
  {
   "cell_type": "code",
   "execution_count": 27,
   "id": "611d7c61",
   "metadata": {},
   "outputs": [
    {
     "name": "stdout",
     "output_type": "stream",
     "text": [
      "Array: [1 2 2 3 3 3 4 4 4 4]\n",
      "Most frequent value: 4\n"
     ]
    }
   ],
   "source": [
    "import numpy as np\n",
    "\n",
    "my_array = np.array([1, 2, 2, 3, 3, 3, 4, 4, 4, 4])\n",
    "\n",
    "counts = np.bincount(my_array)\n",
    "\n",
    "most_frequent_value = np.argmax(counts)\n",
    "\n",
    "print(\"Array:\", my_array)\n",
    "print(\"Most frequent value:\", most_frequent_value)"
   ]
  },
  {
   "cell_type": "markdown",
   "id": "c358727f",
   "metadata": {},
   "source": [
    "# 14.how to get the n largest values of an array"
   ]
  },
  {
   "cell_type": "code",
   "execution_count": 23,
   "id": "b05ab816",
   "metadata": {},
   "outputs": [
    {
     "name": "stdout",
     "output_type": "stream",
     "text": [
      "Array: [ 172 8945 6523  876  788   99   30   55  786  109]\n",
      "The 4 largest values are: [ 788  876 6523 8945]\n"
     ]
    }
   ],
   "source": [
    "import numpy as np\n",
    "\n",
    "arr = np.array([172, 8945, 6523, 876, 788, 99, 30, 55, 786, 109])\n",
    "\n",
    "n = 4\n",
    "\n",
    "largest_values = np.partition(arr, -n)[-n:]\n",
    "\n",
    "print(\"Array:\", arr)\n",
    "print(f\"The {n} largest values are:\", largest_values)"
   ]
  },
  {
   "cell_type": "markdown",
   "id": "1636e710",
   "metadata": {},
   "source": [
    "# 15.how to create a record array from a regular array?"
   ]
  },
  {
   "cell_type": "code",
   "execution_count": 37,
   "id": "c74ba009",
   "metadata": {},
   "outputs": [
    {
     "name": "stdout",
     "output_type": "stream",
     "text": [
      "[1 2 3]\n",
      "['raj' 'parimala' 'jaya']\n",
      "[29 23 42]\n"
     ]
    }
   ],
   "source": [
    "import numpy as np\n",
    "\n",
    "# Create a regular array with data\n",
    "data = [(1, 'raj', 29),\n",
    "        (2, 'parimala', 23),\n",
    "        (3, 'jaya', 42)]\n",
    "\n",
    "# Define data types and field names for the record array\n",
    "dtypes = [('id', int), ('name', 'U10'), ('age', int)]\n",
    "\n",
    "# Create the record array\n",
    "record_array = np.array(data, dtype=dtypes)\n",
    "\n",
    "# Access elements by field name\n",
    "print(record_array['id'])   # Access the 'id' field\n",
    "print(record_array['name']) # Access the 'name' field\n",
    "print(record_array['age'])  # Access the 'age' field"
   ]
  },
  {
   "cell_type": "markdown",
   "id": "5f7e7389",
   "metadata": {},
   "source": [
    "# 16.how to swap two rows of an array?"
   ]
  },
  {
   "cell_type": "code",
   "execution_count": 25,
   "id": "5c7d1d7c",
   "metadata": {},
   "outputs": [
    {
     "name": "stdout",
     "output_type": "stream",
     "text": [
      "[[7 8 9]\n",
      " [3 4 5]\n",
      " [1 2 3]]\n"
     ]
    }
   ],
   "source": [
    "import numpy as np\n",
    "\n",
    "array = np.array([[1, 2, 3],\n",
    "                  [3, 4, 5],\n",
    "                  [7, 8, 9]])\n",
    "\n",
    "row1 = 0  # Row 1 (0-based index)\n",
    "row2 = 2  # Row 2 (0-based index)\n",
    "\n",
    "array[row1], array[row2] = array[row2].copy(), array[row1].copy()\n",
    "\n",
    "print(array)"
   ]
  },
  {
   "cell_type": "markdown",
   "id": "d58a9534",
   "metadata": {},
   "source": [
    "# 17.write python code to reshape to the next dimension of numpy array?"
   ]
  },
  {
   "cell_type": "code",
   "execution_count": 36,
   "id": "98e4d755",
   "metadata": {},
   "outputs": [
    {
     "name": "stdout",
     "output_type": "stream",
     "text": [
      "Original Array:\n",
      "[1 2 3 4 5 6]\n",
      "\n",
      "Reshaped Array:\n",
      "[[1]\n",
      " [2]\n",
      " [3]\n",
      " [4]\n",
      " [5]\n",
      " [6]]\n"
     ]
    }
   ],
   "source": [
    "import numpy as np\n",
    "\n",
    "# Create a sample NumPy array\n",
    "original_array = np.array([1, 2, 3, 4, 5, 6])  # 1-D array with 6 elements\n",
    "\n",
    "# Determine the new shape by increasing the dimension by 1\n",
    "new_shape = (original_array.size, 1)\n",
    "\n",
    "# Reshape the array to the next dimension\n",
    "reshaped_array = original_array.reshape(new_shape)\n",
    "\n",
    "# Print the original and reshaped arrays\n",
    "print(\"Original Array:\")\n",
    "print(original_array)\n",
    "\n",
    "print(\"\\nReshaped Array:\")\n",
    "print(reshaped_array)"
   ]
  },
  {
   "cell_type": "code",
   "execution_count": null,
   "id": "fec1ba9e",
   "metadata": {},
   "outputs": [],
   "source": []
  }
 ],
 "metadata": {
  "kernelspec": {
   "display_name": "Python 3 (ipykernel)",
   "language": "python",
   "name": "python3"
  },
  "language_info": {
   "codemirror_mode": {
    "name": "ipython",
    "version": 3
   },
   "file_extension": ".py",
   "mimetype": "text/x-python",
   "name": "python",
   "nbconvert_exporter": "python",
   "pygments_lexer": "ipython3",
   "version": "3.11.4"
  }
 },
 "nbformat": 4,
 "nbformat_minor": 5
}
