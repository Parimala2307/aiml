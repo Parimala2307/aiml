{
 "cells": [
  {
   "cell_type": "markdown",
   "id": "47136604",
   "metadata": {},
   "source": [
    "# 1.write a python function to list even and odd numbers in a list"
   ]
  },
  {
   "cell_type": "code",
   "execution_count": 4,
   "id": "3649ade1",
   "metadata": {},
   "outputs": [
    {
     "name": "stdout",
     "output_type": "stream",
     "text": [
      "even number in the list :[34, 76, 6, 24, 66]\n",
      "odd numbers in the list :[45, 1, 35, 3, 87, 99]\n"
     ]
    }
   ],
   "source": [
    "# we need to seperate the list into two lists as odd and even\n",
    "num=[34,76,45,1,35,3,6,87,99,24,66]\n",
    "odd=[]\n",
    "even=[]\n",
    "for i in  num:\n",
    "    if i%2==0:\n",
    "        even.append(i)\n",
    "    else:\n",
    "        odd.append(i)\n",
    "print(f\"even number in the list :{even}\")\n",
    "print(f\"odd numbers in the list :{odd}\")"
   ]
  },
  {
   "cell_type": "markdown",
   "id": "222deebb",
   "metadata": {},
   "source": [
    "# 2.write and run a python program that asks the user to enter 8 integers (one at a time),and then print out how many of those integers were even numbers.For example,if the user entered 19,6,9,20,13,7,6 and 1,then your program should print out 3 since 3 of those numbers were even"
   ]
  },
  {
   "cell_type": "code",
   "execution_count": 46,
   "id": "9e8e788e",
   "metadata": {},
   "outputs": [
    {
     "name": "stdout",
     "output_type": "stream",
     "text": [
      "Enter a number34\n",
      "Enter a number23\n",
      "Enter a number45\n",
      "Enter a number67\n",
      "Enter a number12\n",
      "Enter a number4\n",
      "Enter a number6\n",
      "Enter a number1\n",
      "[34, 23, 45, 67, 12, 4, 6, 1]\n",
      "Even numbers in the given list of integers are 4\n"
     ]
    }
   ],
   "source": [
    "nums = []\n",
    "count =0;\n",
    "for i in range(0, 8):\n",
    "    val = int(input(\"Enter a number\"))\n",
    "    nums.append(val)\n",
    "    if val%2 == 0:\n",
    "        count+=1\n",
    "\n",
    "print(nums)\n",
    "print(f\"Even numbers in the given list of integers are {count}\")"
   ]
  },
  {
   "cell_type": "markdown",
   "id": "92f63b1b",
   "metadata": {},
   "source": [
    "# 3.write a python program where you take any positive integer n, if n is even,divide it by 2 to get n/2.if n is odd,multiply it by 3 and add 1 to obtain 3n+1.Repeat the process until you you reach 1."
   ]
  },
  {
   "cell_type": "code",
   "execution_count": 45,
   "id": "b4ed2d61",
   "metadata": {},
   "outputs": [
    {
     "name": "stdout",
     "output_type": "stream",
     "text": [
      "Enter a number 15\n",
      "Number of steps to make 1.0 as 1 are : 17\n"
     ]
    }
   ],
   "source": [
    "num = int(input(\"Enter a number \"))\n",
    "steps =0\n",
    "while(num!=1):\n",
    "    if(num%2 == 0):\n",
    "        num = num/2\n",
    "    else:\n",
    "        num = (3*num)+1\n",
    "    steps+=1\n",
    "print(\"Number of steps to make \"+str(num)+\" as 1 are : \"+ str(steps))"
   ]
  },
  {
   "cell_type": "markdown",
   "id": "4a08372b",
   "metadata": {},
   "source": [
    "# 4.write a python program to compute the sum of all the multiples of 3 or 5 below 500"
   ]
  },
  {
   "cell_type": "code",
   "execution_count": 19,
   "id": "92982cec",
   "metadata": {},
   "outputs": [
    {
     "name": "stdout",
     "output_type": "stream",
     "text": [
      "The sum of multiples of 3 or 5 below 500 is: 57918\n"
     ]
    }
   ],
   "source": [
    "sum = 0\n",
    "for number in range(500):\n",
    "    if number % 3 == 0 or number % 5 == 0:\n",
    "        # If it is, add it to the total sum\n",
    "        sum += number\n",
    "print(\"The sum of multiples of 3 or 5 below 500 is:\",sum)"
   ]
  },
  {
   "cell_type": "markdown",
   "id": "f8196fec",
   "metadata": {},
   "source": [
    "# 5.To write a python program to find first 'n' prime numbers from a list of given numbers"
   ]
  },
  {
   "cell_type": "code",
   "execution_count": 25,
   "id": "35f03901",
   "metadata": {},
   "outputs": [
    {
     "name": "stdout",
     "output_type": "stream",
     "text": [
      "Enter the size of the list6\n",
      "Enter a number: 11\n",
      "Enter a number: 45\n",
      "Enter a number: 23\n",
      "Enter a number: 13\n",
      "Enter a number: 67\n",
      "Enter a number: 45\n",
      "Enter the n: 5\n",
      "first 5 primes in the\n",
      " [11, 45, 23, 13, 67, 45] is \n",
      " [11, 23, 13, 67]\n"
     ]
    }
   ],
   "source": [
    "def isprime(num):\n",
    "    if num<=1:\n",
    "        return False\n",
    "    if num ==2:\n",
    "        return True\n",
    "    if num%2 == 0:\n",
    "        return False\n",
    "    for i in range(3, int(num**0.5)+1, 2):\n",
    "        if num %i ==0:\n",
    "            return False\n",
    "    return True\n",
    "def count(nums, n):\n",
    "    primes = []\n",
    "    for i in nums:\n",
    "        if isprime(i):\n",
    "            primes.append(i)\n",
    "            if(len(primes) == n):\n",
    "                break\n",
    "    return primes\n",
    "siz = int(input(\"Enter the size of the list\"))\n",
    "nums = []\n",
    "for i in range(0, siz):\n",
    "    nums.append(int(input(\"Enter a number: \")))\n",
    "    \n",
    "n = int(input(\"Enter the n: \"))\n",
    "primes = count(nums, n)\n",
    "\n",
    "print(f\"first {n} primes in the\\n {nums} is \\n {primes}\")\n"
   ]
  },
  {
   "cell_type": "markdown",
   "id": "1bc8bb4b",
   "metadata": {},
   "source": [
    "# 6.to write a python program to compute matrix multiplication"
   ]
  },
  {
   "cell_type": "code",
   "execution_count": 29,
   "id": "6263e55d",
   "metadata": {},
   "outputs": [
    {
     "name": "stdout",
     "output_type": "stream",
     "text": [
      "Enter num of rows 3\n",
      "Enter num of cols 3\n",
      "enter a value in 1 1 cell: 1\n",
      "enter a value in 1 2 cell: 2\n",
      "enter a value in 1 3 cell: 3\n",
      "enter a value in 2 1 cell: 4\n",
      "enter a value in 2 2 cell: 5\n",
      "enter a value in 2 3 cell: 6\n",
      "enter a value in 3 1 cell: 7\n",
      "enter a value in 3 2 cell: 8\n",
      "enter a value in 3 3 cell: 9\n",
      "enter a value in 1 1 cell: 9\n",
      "enter a value in 1 2 cell: 8\n",
      "enter a value in 1 3 cell: 7\n",
      "enter a value in 2 1 cell: 6\n",
      "enter a value in 2 2 cell: 5\n",
      "enter a value in 2 3 cell: 4\n",
      "enter a value in 3 1 cell: 3\n",
      "enter a value in 3 2 cell: 2\n",
      "enter a value in 3 3 cell: 1\n",
      "\n",
      "\n",
      "[30, 24, 18]\n",
      "[84, 69, 54]\n",
      "[138, 114, 90]\n"
     ]
    }
   ],
   "source": [
    "matrixA= []\n",
    "matrixB= []\n",
    "\n",
    "\n",
    "def matrix_mul(matrixA, matrixB):\n",
    "    result= [[0 for x in range(len(matrixB[0]))] for x in range(len(matrixA))]\n",
    "    \n",
    "    for i in range(len(matrixA)):\n",
    "        for j in range(len(matrixB[0])):\n",
    "            for k in range(len(matrixB)):\n",
    "                result[i][j] += matrixA[i][k]*matrixB[k][j]\n",
    "            \n",
    "    return result\n",
    "\n",
    "\n",
    "def matrix_ins(r, c):\n",
    "    matrix=[]\n",
    "    for i in range(r):\n",
    "        row=[]\n",
    "        for j in range(c):\n",
    "            value = int(input(f\"enter a value in {i+1} {j+1} cell: \"))\n",
    "            row.append(value)\n",
    "        matrix.append(row)\n",
    "    return matrix\n",
    "rows = int(input(\"Enter num of rows \"))\n",
    "cols = int(input(\"Enter num of cols \"))\n",
    "\n",
    "\n",
    "if(rows != cols):\n",
    "    print(\"Rows and Cols are not equal\")\n",
    "else:\n",
    "    matrixA = matrix_ins(rows, cols)\n",
    "    matrixB = matrix_ins(rows, cols)\n",
    "print(\"\\n\")\n",
    "result = matrix_mul(matrixA, matrixB)\n",
    "\n",
    "for r in result:\n",
    "    print(r)"
   ]
  },
  {
   "cell_type": "markdown",
   "id": "e86b2112",
   "metadata": {},
   "source": [
    "# 7.write a python function to count the number of vowels in a string"
   ]
  },
  {
   "cell_type": "code",
   "execution_count": 30,
   "id": "36cd02fa",
   "metadata": {},
   "outputs": [
    {
     "name": "stdout",
     "output_type": "stream",
     "text": [
      "Enter a string : my name is parimala chavanaboina\n",
      "13\n"
     ]
    }
   ],
   "source": [
    "vowels = [\"a\", \"e\", \"i\", \"o\", \"u\", \"A\", \"E\", \"I\", \"O\", \"U\"]\n",
    "name = input(\"Enter a string : \")\n",
    "\n",
    "def count_vowels(name):\n",
    "    count =0\n",
    "    for i in name:\n",
    "        if i in vowels:\n",
    "            count += 1\n",
    "    return count \n",
    "ans = count_vowels(name)\n",
    "\n",
    "print(ans)"
   ]
  },
  {
   "cell_type": "markdown",
   "id": "59e8b747",
   "metadata": {},
   "source": [
    "# 8.write a python function for finding factorial for the given number using recursive function"
   ]
  },
  {
   "cell_type": "code",
   "execution_count": 32,
   "id": "a9bb7302",
   "metadata": {},
   "outputs": [
    {
     "name": "stdout",
     "output_type": "stream",
     "text": [
      "Enter a number: 8\n",
      "Factorial of number 8 is 40320 \n"
     ]
    }
   ],
   "source": [
    "def fact(num):\n",
    "    if num<=0:\n",
    "        return 1\n",
    "    else:\n",
    "         return num*fact(num-1)\n",
    "\n",
    "\n",
    "num = int(input(\"Enter a number: \"))\n",
    "ans = fact(num)\n",
    "\n",
    "print(f\"Factorial of number {num} is {ans} \")"
   ]
  },
  {
   "cell_type": "markdown",
   "id": "dac33be0",
   "metadata": {},
   "source": [
    "# 9.write a python program to generate the fibonacci series"
   ]
  },
  {
   "cell_type": "code",
   "execution_count": 33,
   "id": "fb55833d",
   "metadata": {},
   "outputs": [
    {
     "name": "stdout",
     "output_type": "stream",
     "text": [
      "Enter the range: 8\n",
      "the fibonacci series of length 8 is \n",
      "[0, 1, 1, 2, 3, 5, 8, 13]\n"
     ]
    }
   ],
   "source": [
    "def fib(n):\n",
    "    result = [0, 1]\n",
    "    if(n<=0):\n",
    "        return []\n",
    "    elif n==1:\n",
    "        return [0]\n",
    "    elif n==2:\n",
    "        return [0, 1]\n",
    "    else:\n",
    "        result = fib(n-1)\n",
    "        result.append(result[-1]+result[-2])\n",
    "        return result\n",
    "\n",
    "num = int(input(\"Enter the range: \"))\n",
    "\n",
    "ans = fib(num)\n",
    "\n",
    "print(f\"the fibonacci series of length {num} is \\n{ans}\")"
   ]
  },
  {
   "cell_type": "markdown",
   "id": "a2f85ef1",
   "metadata": {},
   "source": [
    "# 10.python program to display the given integer in reverse order using the function without an in-built function "
   ]
  },
  {
   "cell_type": "code",
   "execution_count": 35,
   "id": "c4e70c6b",
   "metadata": {},
   "outputs": [
    {
     "name": "stdout",
     "output_type": "stream",
     "text": [
      "enter a number: 378526834\n",
      "the reverse number is 438625873\n"
     ]
    }
   ],
   "source": [
    "def reverse_number(num):\n",
    "    value =0\n",
    "    while num>0:\n",
    "        rem = num%10\n",
    "        value = value*10 + rem\n",
    "        \n",
    "        num = num//10\n",
    "    return value\n",
    "\n",
    "num = int(input(\"enter a number: \"))\n",
    "ans = reverse_number(num)\n",
    "\n",
    "print(f\"the reverse number is {ans}\")"
   ]
  },
  {
   "cell_type": "markdown",
   "id": "2361f65a",
   "metadata": {},
   "source": [
    "# 11.write a python function to dislay all integers within the range 200-300 whose sum of digits is an even number"
   ]
  },
  {
   "cell_type": "code",
   "execution_count": 37,
   "id": "5b67df9d",
   "metadata": {},
   "outputs": [
    {
     "name": "stdout",
     "output_type": "stream",
     "text": [
      "The value whose sum is even in the range 200 - 300\n",
      "[200, 202, 204, 206, 208, 211, 213, 215, 217, 219, 220, 222, 224, 226, 228, 231, 233, 235, 237, 239, 240, 242, 244, 246, 248, 251, 253, 255, 257, 259, 260, 262, 264, 266, 268, 271, 273, 275, 277, 279, 280, 282, 284, 286, 288, 291, 293, 295, 297, 299]\n"
     ]
    }
   ],
   "source": [
    "def check(n):\n",
    "    sum = 0\n",
    "    while n!=0:\n",
    "        sum += n%10\n",
    "        n = n//10\n",
    "    if sum % 2 ==0:\n",
    "        return True\n",
    "    else:\n",
    "        return False\n",
    "def solve():\n",
    "    values = []\n",
    "    for i in range(200, 301):\n",
    "        if check(i):\n",
    "             values.append(i)   \n",
    "    return values\n",
    "\n",
    "ans = solve()\n",
    "print(\"The value whose sum is even in the range 200 - 300\")\n",
    "print(ans)\n"
   ]
  },
  {
   "cell_type": "markdown",
   "id": "8b2596ff",
   "metadata": {},
   "source": [
    "# 12.Write a pyhton function to find the number of digits and sum of digits for a given integer"
   ]
  },
  {
   "cell_type": "code",
   "execution_count": 38,
   "id": "a93ead0c",
   "metadata": {},
   "outputs": [
    {
     "name": "stdout",
     "output_type": "stream",
     "text": [
      "Enter a number: 12345\n",
      "The count of num of digits in the given  number is: 5\n",
      "The sum of the digits in the given  number is: 15 \n"
     ]
    }
   ],
   "source": [
    "def solve(num):\n",
    "    count =0\n",
    "    sum =0\n",
    "    while num!=0:\n",
    "        count +=1\n",
    "        sum += num%10\n",
    "        num =  num//10\n",
    "    return [sum, count]\n",
    "\n",
    "num = int(input(\"Enter a number: \"))\n",
    "ans = solve(num)\n",
    "\n",
    "print(f\"The count of num of digits in the given  number is: {ans[1]}\")\n",
    "print(f\"The sum of the digits in the given  number is: {ans[0]} \")"
   ]
  },
  {
   "cell_type": "markdown",
   "id": "8ff10ad6",
   "metadata": {},
   "source": [
    "# 13.write functions called is_sorted that takes a list as a parameter and returns true if the list sorted in ascending order and false otherwise and has_duplicates that takes a list and returns true if there is any element that appears more than once.it should not modify the original list."
   ]
  },
  {
   "cell_type": "code",
   "execution_count": 52,
   "id": "ca511f16",
   "metadata": {},
   "outputs": [
    {
     "name": "stdout",
     "output_type": "stream",
     "text": [
      "Enter the size of the list: 5\n",
      "Enter the number in to the list1: 23\n",
      "Enter the number in to the list1: 34\n",
      "Enter the number in to the list1: 45\n",
      "Enter the number in to the list1: 56\n",
      "Enter the number in to the list1: 67\n",
      "\n",
      "Using is_sorted fucntion the list\n",
      " [23, 34, 45, 56, 67]\n",
      " is a sorted list\n",
      "Enter the number in to the list2: 11\n",
      "Enter the number in to the list2: 23\n",
      "Enter the number in to the list2: 45\n",
      "Enter the number in to the list2: 56\n",
      "Enter the number in to the list2: 56\n",
      "Using has_duplicates fucntion the list\n",
      " [11, 23, 45, 56, 56]\n",
      " has duplicates in it\n"
     ]
    }
   ],
   "source": [
    "# is_sorted function\n",
    "def is_sorted(nums):\n",
    "    for i in range(1, len(nums)):\n",
    "        if(nums[i]<nums[i-1]):\n",
    "            return False\n",
    "        \n",
    "    return True\n",
    "\n",
    "# has_duplicates function\n",
    "def has_duplicates(nums):\n",
    "    vis = set()\n",
    "    for i in nums:\n",
    "        if i in vis:\n",
    "            return True\n",
    "        vis.add(i)\n",
    "    return False\n",
    "# inputs for is_sorted fucntion\n",
    "n = int(input(\"Enter the size of the list: \"))\n",
    "nums1=[]\n",
    "for i in range(0, n):\n",
    "    ele = int(input(\"Enter the number in to the list1: \"))\n",
    "    nums1.append(ele)\n",
    "# calling is_sorted function\n",
    "ans1 = is_sorted(nums1)\n",
    "if ans1:\n",
    "    print(f\"\\nUsing is_sorted fucntion the list\\n {nums1}\\n is a sorted list\")\n",
    "else:\n",
    "    print(f\"\\nUsing is_sorted fucntion the list\\n {nums1}\\n is not a sorted list\")\n",
    "# inputs for has_duplicate function\n",
    "nums2=[]\n",
    "for i in range(0, n):\n",
    "    ele = int(input(\"Enter the number in to the list2: \"))\n",
    "    nums2.append(ele)\n",
    "\n",
    "\n",
    "# calling has_duplicates function\n",
    "ans2 = has_duplicates(nums2)\n",
    "\n",
    "if ans2:\n",
    "    print(f\"Using has_duplicates fucntion the list\\n {nums2}\\n has duplicates in it\")\n",
    "else:\n",
    "    print(f\"Using has_duplicates fucntion the list\\n {nums2}\\n has no duplicates in it\")"
   ]
  },
  {
   "cell_type": "markdown",
   "id": "05a909b8",
   "metadata": {},
   "source": [
    "# 14. write functions called nested_sum that takes a list of integers and adds up the elements from all the nested lists and cumsum that  takes a list of numbers and return s the the cumulative sum;that is, a new list where the ith elements is the sum of the first i+1 elements from the original list. "
   ]
  },
  {
   "cell_type": "code",
   "execution_count": 53,
   "id": "a6e3ac1a",
   "metadata": {},
   "outputs": [
    {
     "name": "stdout",
     "output_type": "stream",
     "text": [
      "Using nested_sum the\n",
      " [1, [2, 3], [3, 4, 5], [4, 5, 6, 7]]\n",
      "sum is 40\n",
      "\n",
      "Using cum_sum the\n",
      " [10, 20, 30, 40, 50]\n",
      "answer list is [10, 30, 60, 100, 150]\n"
     ]
    }
   ],
   "source": [
    "def nested_sum(nums):\n",
    "    sum = 0\n",
    "    for i in nums:\n",
    "        if isinstance(i, list):\n",
    "            sum += nested_sum(i)\n",
    "        elif isinstance(i, int):\n",
    "            sum += i\n",
    "\n",
    "    return sum\n",
    "\n",
    "# creating nested list for the fun nested_sum\n",
    "nums1 = [1, [2, 3], [3, 4, 5],[4, 5, 6, 7]]\n",
    "\n",
    "# calling the nested_sum function\n",
    "ans1 = nested_sum(nums1)\n",
    "\n",
    "print(f\"Using nested_sum the\\n {nums1}\\nsum is {ans1}\")\n",
    "# cummsum function\n",
    "\n",
    "def cum_sum(nums):\n",
    "    sum = 0\n",
    "    ans = []\n",
    "    for i in nums:\n",
    "        sum += i\n",
    "        ans.append(sum)\n",
    "    return ans\n",
    "# list for cum_sum \n",
    "nums2 = [10, 20, 30, 40, 50]\n",
    "\n",
    "# calling the cum_sum function\n",
    "ans2 = cum_sum(nums2)\n",
    "\n",
    "print(f\"\\nUsing cum_sum the\\n {nums2}\\nanswer list is {ans2}\")\n",
    "\n"
   ]
  },
  {
   "cell_type": "code",
   "execution_count": null,
   "id": "b4240af4",
   "metadata": {},
   "outputs": [],
   "source": []
  }
 ],
 "metadata": {
  "kernelspec": {
   "display_name": "Python 3 (ipykernel)",
   "language": "python",
   "name": "python3"
  },
  "language_info": {
   "codemirror_mode": {
    "name": "ipython",
    "version": 3
   },
   "file_extension": ".py",
   "mimetype": "text/x-python",
   "name": "python",
   "nbconvert_exporter": "python",
   "pygments_lexer": "ipython3",
   "version": "3.11.4"
  }
 },
 "nbformat": 4,
 "nbformat_minor": 5
}
